{
 "cells": [
  {
   "cell_type": "markdown",
   "metadata": {},
   "source": [
    "Cette première cellule vous présente la manière avec laquelle j'ai obtenu les features/caractéristiques à partir des jeux de données de \"textes\"\n",
    "Pour obtenir les textes (et les \"filtrer\") j'ai utiliser le script ./textDatasets/conversion.sh (qui prends, par exemple les fichiers FR_* les concatene, supprime les accents (en gardant les caracteres sans accents) et enfin transforme en minuscules).\n",
    "J'ai utilisé les livres \"open data\" de la base du site Guttenberg Project (qui archive énormément de livres en texte, \"txt\" simples\", tombés dans le domaine publique)."
   ]
  },
  {
   "cell_type": "code",
   "execution_count": 1,
   "metadata": {},
   "outputs": [],
   "source": [
    "import numpy as np\n",
    "import string\n",
    "BlockSz=100\n",
    "# On procede de la même façon pour les differents languages\n",
    "# Ouverture du fichier texte contenant les caracteres alphabetiques \"brutes\"\n",
    "textGERMAN = open('./textDatasets/GERMAN')\n",
    "# Lecture\n",
    "DE=textGERMAN.read()\n",
    "textGERMAN.close()\n",
    "# Calcule du nombre de blocks (arrondi par defaut) de BlockSz caracteres\n",
    "NbBlock=int(np.floor(len(DE)/BlockSz))\n",
    "# Creation des tableaux de donnees textuelles et de features\n",
    "DataDE=[]\n",
    "FeaDE =[]\n",
    "# Pour tous les indices de blocks ...\n",
    "for index in range(NbBlock):\n",
    "    # Exctraction des donnees texte du block\n",
    "    DataDE.append(DE[index*BlockSz:(index+1)*BlockSz])\n",
    "    # Comptage de chacun des caracteres\n",
    "    countDE=[]\n",
    "    for letter in string.ascii_lowercase:\n",
    "        countDE.append(DataDE[index].count(letter))\n",
    "    # Comptage de toutes les 26**2 paires de caracteres possibles\n",
    "    for letter1 in string.ascii_lowercase:\n",
    "        for letter2 in string.ascii_lowercase:\n",
    "            countDE.append(DataDE[index].count(letter1+letter2))\n",
    "    # Une fois le vecteur de décompte obtenu  .... on ajoute ce vecteur (contenant tous les decomptes) au tableaux des features\n",
    "    FeaDE.append(countDE)\n",
    "\n",
    "# On procede de la même façon pour les differents languages ....\n",
    "textFRENCH = open('./textDatasets/FRENCH')\n",
    "FR=textFRENCH.read()\n",
    "textFRENCH.close()\n",
    "NbBlock=int(np.floor(len(FR)/BlockSz))\n",
    "DataFR=[]\n",
    "FeaFR =[]\n",
    "for index in range(NbBlock):\n",
    "    DataFR.append(FR[index*BlockSz:(index+1)*BlockSz])\n",
    "    countFR=[]\n",
    "    for letter in string.ascii_lowercase:\n",
    "        countFR.append(DataFR[index].count(letter))\n",
    "    for letter1 in string.ascii_lowercase:\n",
    "        for letter2 in string.ascii_lowercase:\n",
    "            countFR.append(DataFR[index].count(letter1+letter2))\n",
    "    FeaFR.append(countFR)\n",
    "\n",
    "# On procede de la même façon pour les differents languages ....\n",
    "textSPANISH = open('./textDatasets/SPANISH')\n",
    "ES=textSPANISH.read()\n",
    "textSPANISH.close()\n",
    "NbBlock=int(np.floor(len(ES)/BlockSz))\n",
    "DataES=[]\n",
    "FeaES =[]\n",
    "for index in range(NbBlock):\n",
    "    DataES.append(ES[index*BlockSz:(index+1)*BlockSz])\n",
    "    countES=[]\n",
    "    for letter in string.ascii_lowercase:\n",
    "        countES.append(DataES[index].count(letter))\n",
    "    for letter1 in string.ascii_lowercase:\n",
    "        for letter2 in string.ascii_lowercase:\n",
    "            countES.append(DataES[index].count(letter1+letter2))\n",
    "    FeaES.append(countES)\n",
    "\n",
    "# On procede de la même façon pour les differents languages ....\n",
    "textENGLISH = open('./textDatasets/ENGLISH')\n",
    "EN=textENGLISH.read()\n",
    "textENGLISH.close()\n",
    "NbBlock=int(np.floor(len(EN)/BlockSz))\n",
    "DataEN=[]\n",
    "FeaEN =[]\n",
    "for index in range(NbBlock):\n",
    "    DataEN.append(EN[index*BlockSz:(index+1)*BlockSz])\n",
    "    countEN=[]\n",
    "    for letter in string.ascii_lowercase:\n",
    "        countEN.append(DataEN[index].count(letter))\n",
    "    for letter1 in string.ascii_lowercase:\n",
    "        for letter2 in string.ascii_lowercase:\n",
    "            countEN.append(DataEN[index].count(letter1+letter2))\n",
    "    FeaEN.append(countEN)"
   ]
  },
  {
   "cell_type": "code",
   "execution_count": 2,
   "metadata": {},
   "outputs": [],
   "source": [
    "# Ici on sauvegarde les caracteristiques, pour eviter de les recalculer à chaque fois ....\n",
    "\n",
    "np.save('./FeaEN.npy', FeaEN)\n",
    "np.save('./FeaFR.npy', FeaFR)\n",
    "np.save('./FeaDE.npy', FeaDE)\n",
    "np.save('./FeaES.npy', FeaES)"
   ]
  },
  {
   "cell_type": "code",
   "execution_count": 3,
   "metadata": {},
   "outputs": [],
   "source": [
    "# ... On peut simplement les loader (et commenter les cellules precedentes)\n",
    "#import numpy as np\n",
    "FeaEN = np.load('./FeaEN.npy')\n",
    "FeaFR = np.load('./FeaFR.npy')\n",
    "FeaDE = np.load('./FeaDE.npy')\n",
    "FeaES = np.load('./FeaES.npy')"
   ]
  },
  {
   "cell_type": "code",
   "execution_count": 4,
   "metadata": {
    "scrolled": true
   },
   "outputs": [
    {
     "name": "stdout",
     "output_type": "stream",
     "text": [
      "(43292, 702)\n",
      "(41160, 702)\n",
      "(43218, 702)\n",
      "(42095, 702)\n"
     ]
    }
   ],
   "source": [
    "# Pour plus de \"facilier de manipulation\" on trasforme les donnes en \"matrice numpy\" et on affiche la dimension de la base de donnees.\n",
    "FeaDE = np.array(FeaDE)\n",
    "print(FeaDE.shape)\n",
    "\n",
    "FeaFR = np.array(FeaFR)\n",
    "print(FeaFR.shape)\n",
    "\n",
    "FeaES = np.array(FeaES)\n",
    "print(FeaES.shape)\n",
    "\n",
    "FeaEN = np.array(FeaEN)\n",
    "print(FeaEN.shape)"
   ]
  },
  {
   "cell_type": "markdown",
   "metadata": {},
   "source": [
    "On va premièrement travailler sur la langue française et allemande pour les premières questions. La langue française sera labilisé par 1 alors que l'allemand avec un 0"
   ]
  },
  {
   "cell_type": "code",
   "execution_count": 5,
   "metadata": {},
   "outputs": [
    {
     "data": {
      "text/html": [
       "<div>\n",
       "<style scoped>\n",
       "    .dataframe tbody tr th:only-of-type {\n",
       "        vertical-align: middle;\n",
       "    }\n",
       "\n",
       "    .dataframe tbody tr th {\n",
       "        vertical-align: top;\n",
       "    }\n",
       "\n",
       "    .dataframe thead th {\n",
       "        text-align: right;\n",
       "    }\n",
       "</style>\n",
       "<table border=\"1\" class=\"dataframe\">\n",
       "  <thead>\n",
       "    <tr style=\"text-align: right;\">\n",
       "      <th></th>\n",
       "      <th>0</th>\n",
       "      <th>1</th>\n",
       "      <th>2</th>\n",
       "      <th>3</th>\n",
       "      <th>4</th>\n",
       "      <th>5</th>\n",
       "      <th>6</th>\n",
       "      <th>7</th>\n",
       "      <th>8</th>\n",
       "      <th>9</th>\n",
       "      <th>...</th>\n",
       "      <th>693</th>\n",
       "      <th>694</th>\n",
       "      <th>695</th>\n",
       "      <th>696</th>\n",
       "      <th>697</th>\n",
       "      <th>698</th>\n",
       "      <th>699</th>\n",
       "      <th>700</th>\n",
       "      <th>701</th>\n",
       "      <th>langue</th>\n",
       "    </tr>\n",
       "  </thead>\n",
       "  <tbody>\n",
       "    <tr>\n",
       "      <th>0</th>\n",
       "      <td>1</td>\n",
       "      <td>3</td>\n",
       "      <td>0</td>\n",
       "      <td>7</td>\n",
       "      <td>18</td>\n",
       "      <td>1</td>\n",
       "      <td>5</td>\n",
       "      <td>5</td>\n",
       "      <td>8</td>\n",
       "      <td>1</td>\n",
       "      <td>...</td>\n",
       "      <td>0</td>\n",
       "      <td>0</td>\n",
       "      <td>1</td>\n",
       "      <td>2</td>\n",
       "      <td>0</td>\n",
       "      <td>0</td>\n",
       "      <td>0</td>\n",
       "      <td>0</td>\n",
       "      <td>0</td>\n",
       "      <td>0</td>\n",
       "    </tr>\n",
       "    <tr>\n",
       "      <th>1</th>\n",
       "      <td>6</td>\n",
       "      <td>2</td>\n",
       "      <td>5</td>\n",
       "      <td>6</td>\n",
       "      <td>12</td>\n",
       "      <td>9</td>\n",
       "      <td>4</td>\n",
       "      <td>6</td>\n",
       "      <td>7</td>\n",
       "      <td>0</td>\n",
       "      <td>...</td>\n",
       "      <td>0</td>\n",
       "      <td>0</td>\n",
       "      <td>0</td>\n",
       "      <td>0</td>\n",
       "      <td>0</td>\n",
       "      <td>0</td>\n",
       "      <td>0</td>\n",
       "      <td>0</td>\n",
       "      <td>0</td>\n",
       "      <td>0</td>\n",
       "    </tr>\n",
       "    <tr>\n",
       "      <th>2</th>\n",
       "      <td>4</td>\n",
       "      <td>4</td>\n",
       "      <td>2</td>\n",
       "      <td>5</td>\n",
       "      <td>18</td>\n",
       "      <td>2</td>\n",
       "      <td>1</td>\n",
       "      <td>2</td>\n",
       "      <td>6</td>\n",
       "      <td>1</td>\n",
       "      <td>...</td>\n",
       "      <td>0</td>\n",
       "      <td>0</td>\n",
       "      <td>1</td>\n",
       "      <td>0</td>\n",
       "      <td>0</td>\n",
       "      <td>0</td>\n",
       "      <td>0</td>\n",
       "      <td>0</td>\n",
       "      <td>0</td>\n",
       "      <td>0</td>\n",
       "    </tr>\n",
       "    <tr>\n",
       "      <th>3</th>\n",
       "      <td>10</td>\n",
       "      <td>0</td>\n",
       "      <td>6</td>\n",
       "      <td>5</td>\n",
       "      <td>14</td>\n",
       "      <td>1</td>\n",
       "      <td>3</td>\n",
       "      <td>7</td>\n",
       "      <td>5</td>\n",
       "      <td>0</td>\n",
       "      <td>...</td>\n",
       "      <td>0</td>\n",
       "      <td>0</td>\n",
       "      <td>0</td>\n",
       "      <td>0</td>\n",
       "      <td>0</td>\n",
       "      <td>0</td>\n",
       "      <td>0</td>\n",
       "      <td>0</td>\n",
       "      <td>0</td>\n",
       "      <td>0</td>\n",
       "    </tr>\n",
       "    <tr>\n",
       "      <th>4</th>\n",
       "      <td>5</td>\n",
       "      <td>0</td>\n",
       "      <td>3</td>\n",
       "      <td>4</td>\n",
       "      <td>19</td>\n",
       "      <td>2</td>\n",
       "      <td>5</td>\n",
       "      <td>7</td>\n",
       "      <td>7</td>\n",
       "      <td>1</td>\n",
       "      <td>...</td>\n",
       "      <td>0</td>\n",
       "      <td>0</td>\n",
       "      <td>0</td>\n",
       "      <td>0</td>\n",
       "      <td>0</td>\n",
       "      <td>0</td>\n",
       "      <td>0</td>\n",
       "      <td>0</td>\n",
       "      <td>0</td>\n",
       "      <td>0</td>\n",
       "    </tr>\n",
       "  </tbody>\n",
       "</table>\n",
       "<p>5 rows × 703 columns</p>\n",
       "</div>"
      ],
      "text/plain": [
       "    0  1  2  3   4  5  6  7  8  9  ...  693  694  695  696  697  698  699  \\\n",
       "0   1  3  0  7  18  1  5  5  8  1  ...    0    0    1    2    0    0    0   \n",
       "1   6  2  5  6  12  9  4  6  7  0  ...    0    0    0    0    0    0    0   \n",
       "2   4  4  2  5  18  2  1  2  6  1  ...    0    0    1    0    0    0    0   \n",
       "3  10  0  6  5  14  1  3  7  5  0  ...    0    0    0    0    0    0    0   \n",
       "4   5  0  3  4  19  2  5  7  7  1  ...    0    0    0    0    0    0    0   \n",
       "\n",
       "   700  701  langue  \n",
       "0    0    0       0  \n",
       "1    0    0       0  \n",
       "2    0    0       0  \n",
       "3    0    0       0  \n",
       "4    0    0       0  \n",
       "\n",
       "[5 rows x 703 columns]"
      ]
     },
     "execution_count": 5,
     "metadata": {},
     "output_type": "execute_result"
    }
   ],
   "source": [
    "import pandas as pd\n",
    "df_DE = pd.DataFrame(data=FeaDE)\n",
    "df_DE.head()\n",
    "df_DE[\"langue\"]=0\n",
    "df_DE.head()"
   ]
  },
  {
   "cell_type": "code",
   "execution_count": 6,
   "metadata": {},
   "outputs": [
    {
     "data": {
      "text/html": [
       "<div>\n",
       "<style scoped>\n",
       "    .dataframe tbody tr th:only-of-type {\n",
       "        vertical-align: middle;\n",
       "    }\n",
       "\n",
       "    .dataframe tbody tr th {\n",
       "        vertical-align: top;\n",
       "    }\n",
       "\n",
       "    .dataframe thead th {\n",
       "        text-align: right;\n",
       "    }\n",
       "</style>\n",
       "<table border=\"1\" class=\"dataframe\">\n",
       "  <thead>\n",
       "    <tr style=\"text-align: right;\">\n",
       "      <th></th>\n",
       "      <th>0</th>\n",
       "      <th>1</th>\n",
       "      <th>2</th>\n",
       "      <th>3</th>\n",
       "      <th>4</th>\n",
       "      <th>5</th>\n",
       "      <th>6</th>\n",
       "      <th>7</th>\n",
       "      <th>8</th>\n",
       "      <th>9</th>\n",
       "      <th>...</th>\n",
       "      <th>693</th>\n",
       "      <th>694</th>\n",
       "      <th>695</th>\n",
       "      <th>696</th>\n",
       "      <th>697</th>\n",
       "      <th>698</th>\n",
       "      <th>699</th>\n",
       "      <th>700</th>\n",
       "      <th>701</th>\n",
       "      <th>langue</th>\n",
       "    </tr>\n",
       "  </thead>\n",
       "  <tbody>\n",
       "    <tr>\n",
       "      <th>0</th>\n",
       "      <td>8</td>\n",
       "      <td>3</td>\n",
       "      <td>4</td>\n",
       "      <td>5</td>\n",
       "      <td>13</td>\n",
       "      <td>1</td>\n",
       "      <td>3</td>\n",
       "      <td>3</td>\n",
       "      <td>10</td>\n",
       "      <td>0</td>\n",
       "      <td>...</td>\n",
       "      <td>0</td>\n",
       "      <td>0</td>\n",
       "      <td>0</td>\n",
       "      <td>0</td>\n",
       "      <td>0</td>\n",
       "      <td>0</td>\n",
       "      <td>0</td>\n",
       "      <td>0</td>\n",
       "      <td>0</td>\n",
       "      <td>1</td>\n",
       "    </tr>\n",
       "    <tr>\n",
       "      <th>1</th>\n",
       "      <td>6</td>\n",
       "      <td>3</td>\n",
       "      <td>2</td>\n",
       "      <td>5</td>\n",
       "      <td>13</td>\n",
       "      <td>1</td>\n",
       "      <td>4</td>\n",
       "      <td>8</td>\n",
       "      <td>8</td>\n",
       "      <td>0</td>\n",
       "      <td>...</td>\n",
       "      <td>0</td>\n",
       "      <td>0</td>\n",
       "      <td>0</td>\n",
       "      <td>0</td>\n",
       "      <td>0</td>\n",
       "      <td>0</td>\n",
       "      <td>0</td>\n",
       "      <td>0</td>\n",
       "      <td>0</td>\n",
       "      <td>1</td>\n",
       "    </tr>\n",
       "    <tr>\n",
       "      <th>2</th>\n",
       "      <td>7</td>\n",
       "      <td>2</td>\n",
       "      <td>5</td>\n",
       "      <td>2</td>\n",
       "      <td>7</td>\n",
       "      <td>1</td>\n",
       "      <td>1</td>\n",
       "      <td>6</td>\n",
       "      <td>10</td>\n",
       "      <td>0</td>\n",
       "      <td>...</td>\n",
       "      <td>0</td>\n",
       "      <td>0</td>\n",
       "      <td>0</td>\n",
       "      <td>0</td>\n",
       "      <td>0</td>\n",
       "      <td>0</td>\n",
       "      <td>0</td>\n",
       "      <td>0</td>\n",
       "      <td>0</td>\n",
       "      <td>1</td>\n",
       "    </tr>\n",
       "    <tr>\n",
       "      <th>3</th>\n",
       "      <td>6</td>\n",
       "      <td>0</td>\n",
       "      <td>2</td>\n",
       "      <td>7</td>\n",
       "      <td>16</td>\n",
       "      <td>2</td>\n",
       "      <td>1</td>\n",
       "      <td>9</td>\n",
       "      <td>5</td>\n",
       "      <td>0</td>\n",
       "      <td>...</td>\n",
       "      <td>0</td>\n",
       "      <td>0</td>\n",
       "      <td>0</td>\n",
       "      <td>0</td>\n",
       "      <td>0</td>\n",
       "      <td>0</td>\n",
       "      <td>0</td>\n",
       "      <td>0</td>\n",
       "      <td>0</td>\n",
       "      <td>1</td>\n",
       "    </tr>\n",
       "    <tr>\n",
       "      <th>4</th>\n",
       "      <td>9</td>\n",
       "      <td>3</td>\n",
       "      <td>2</td>\n",
       "      <td>6</td>\n",
       "      <td>11</td>\n",
       "      <td>2</td>\n",
       "      <td>4</td>\n",
       "      <td>6</td>\n",
       "      <td>9</td>\n",
       "      <td>0</td>\n",
       "      <td>...</td>\n",
       "      <td>0</td>\n",
       "      <td>0</td>\n",
       "      <td>0</td>\n",
       "      <td>0</td>\n",
       "      <td>0</td>\n",
       "      <td>0</td>\n",
       "      <td>0</td>\n",
       "      <td>0</td>\n",
       "      <td>0</td>\n",
       "      <td>1</td>\n",
       "    </tr>\n",
       "  </tbody>\n",
       "</table>\n",
       "<p>5 rows × 703 columns</p>\n",
       "</div>"
      ],
      "text/plain": [
       "   0  1  2  3   4  5  6  7   8  9  ...  693  694  695  696  697  698  699  \\\n",
       "0  8  3  4  5  13  1  3  3  10  0  ...    0    0    0    0    0    0    0   \n",
       "1  6  3  2  5  13  1  4  8   8  0  ...    0    0    0    0    0    0    0   \n",
       "2  7  2  5  2   7  1  1  6  10  0  ...    0    0    0    0    0    0    0   \n",
       "3  6  0  2  7  16  2  1  9   5  0  ...    0    0    0    0    0    0    0   \n",
       "4  9  3  2  6  11  2  4  6   9  0  ...    0    0    0    0    0    0    0   \n",
       "\n",
       "   700  701  langue  \n",
       "0    0    0       1  \n",
       "1    0    0       1  \n",
       "2    0    0       1  \n",
       "3    0    0       1  \n",
       "4    0    0       1  \n",
       "\n",
       "[5 rows x 703 columns]"
      ]
     },
     "execution_count": 6,
     "metadata": {},
     "output_type": "execute_result"
    }
   ],
   "source": [
    "df_EN = pd.DataFrame(data=FeaEN)\n",
    "df_EN.head()\n",
    "df_EN[\"langue\"]=1\n",
    "df_EN.head()"
   ]
  },
  {
   "cell_type": "code",
   "execution_count": 7,
   "metadata": {},
   "outputs": [],
   "source": [
    "df_ENvsDE=pd.concat([df_EN,df_DE])"
   ]
  },
  {
   "cell_type": "code",
   "execution_count": 8,
   "metadata": {},
   "outputs": [
    {
     "name": "stdout",
     "output_type": "stream",
     "text": [
      "la taille de concaténation: 85387 la taille de la somme: 85387\n"
     ]
    }
   ],
   "source": [
    "print(\"la taille de concaténation:\",df_ENvsDE.shape[0],\"la taille de la somme:\",(df_EN.shape[0]+df_DE.shape[0]))"
   ]
  },
  {
   "cell_type": "markdown",
   "metadata": {},
   "source": [
    "Si on laisse le dataframe comme il est et on fait du train_test split, on tombera dans l'erreur d'avoir un y_test qui contient que des 1. Pour éviter ceci il faut mélanger les lignes du dataframe, on fait ceci avec la fonction sample"
   ]
  },
  {
   "cell_type": "code",
   "execution_count": 9,
   "metadata": {},
   "outputs": [
    {
     "data": {
      "text/html": [
       "<div>\n",
       "<style scoped>\n",
       "    .dataframe tbody tr th:only-of-type {\n",
       "        vertical-align: middle;\n",
       "    }\n",
       "\n",
       "    .dataframe tbody tr th {\n",
       "        vertical-align: top;\n",
       "    }\n",
       "\n",
       "    .dataframe thead th {\n",
       "        text-align: right;\n",
       "    }\n",
       "</style>\n",
       "<table border=\"1\" class=\"dataframe\">\n",
       "  <thead>\n",
       "    <tr style=\"text-align: right;\">\n",
       "      <th></th>\n",
       "      <th>0</th>\n",
       "      <th>1</th>\n",
       "      <th>2</th>\n",
       "      <th>3</th>\n",
       "      <th>4</th>\n",
       "      <th>5</th>\n",
       "      <th>6</th>\n",
       "      <th>7</th>\n",
       "      <th>8</th>\n",
       "      <th>9</th>\n",
       "      <th>...</th>\n",
       "      <th>693</th>\n",
       "      <th>694</th>\n",
       "      <th>695</th>\n",
       "      <th>696</th>\n",
       "      <th>697</th>\n",
       "      <th>698</th>\n",
       "      <th>699</th>\n",
       "      <th>700</th>\n",
       "      <th>701</th>\n",
       "      <th>langue</th>\n",
       "    </tr>\n",
       "  </thead>\n",
       "  <tbody>\n",
       "    <tr>\n",
       "      <th>0</th>\n",
       "      <td>9</td>\n",
       "      <td>2</td>\n",
       "      <td>2</td>\n",
       "      <td>3</td>\n",
       "      <td>10</td>\n",
       "      <td>0</td>\n",
       "      <td>4</td>\n",
       "      <td>10</td>\n",
       "      <td>9</td>\n",
       "      <td>0</td>\n",
       "      <td>...</td>\n",
       "      <td>0</td>\n",
       "      <td>0</td>\n",
       "      <td>0</td>\n",
       "      <td>0</td>\n",
       "      <td>0</td>\n",
       "      <td>0</td>\n",
       "      <td>0</td>\n",
       "      <td>0</td>\n",
       "      <td>0</td>\n",
       "      <td>1</td>\n",
       "    </tr>\n",
       "    <tr>\n",
       "      <th>1</th>\n",
       "      <td>6</td>\n",
       "      <td>2</td>\n",
       "      <td>0</td>\n",
       "      <td>7</td>\n",
       "      <td>23</td>\n",
       "      <td>1</td>\n",
       "      <td>0</td>\n",
       "      <td>3</td>\n",
       "      <td>4</td>\n",
       "      <td>0</td>\n",
       "      <td>...</td>\n",
       "      <td>0</td>\n",
       "      <td>0</td>\n",
       "      <td>0</td>\n",
       "      <td>0</td>\n",
       "      <td>0</td>\n",
       "      <td>0</td>\n",
       "      <td>0</td>\n",
       "      <td>0</td>\n",
       "      <td>0</td>\n",
       "      <td>0</td>\n",
       "    </tr>\n",
       "    <tr>\n",
       "      <th>2</th>\n",
       "      <td>7</td>\n",
       "      <td>1</td>\n",
       "      <td>2</td>\n",
       "      <td>3</td>\n",
       "      <td>11</td>\n",
       "      <td>2</td>\n",
       "      <td>4</td>\n",
       "      <td>5</td>\n",
       "      <td>9</td>\n",
       "      <td>1</td>\n",
       "      <td>...</td>\n",
       "      <td>0</td>\n",
       "      <td>0</td>\n",
       "      <td>0</td>\n",
       "      <td>0</td>\n",
       "      <td>0</td>\n",
       "      <td>0</td>\n",
       "      <td>0</td>\n",
       "      <td>0</td>\n",
       "      <td>0</td>\n",
       "      <td>0</td>\n",
       "    </tr>\n",
       "    <tr>\n",
       "      <th>3</th>\n",
       "      <td>8</td>\n",
       "      <td>3</td>\n",
       "      <td>1</td>\n",
       "      <td>6</td>\n",
       "      <td>23</td>\n",
       "      <td>2</td>\n",
       "      <td>6</td>\n",
       "      <td>0</td>\n",
       "      <td>2</td>\n",
       "      <td>1</td>\n",
       "      <td>...</td>\n",
       "      <td>0</td>\n",
       "      <td>0</td>\n",
       "      <td>0</td>\n",
       "      <td>0</td>\n",
       "      <td>0</td>\n",
       "      <td>0</td>\n",
       "      <td>0</td>\n",
       "      <td>0</td>\n",
       "      <td>0</td>\n",
       "      <td>0</td>\n",
       "    </tr>\n",
       "    <tr>\n",
       "      <th>4</th>\n",
       "      <td>7</td>\n",
       "      <td>2</td>\n",
       "      <td>2</td>\n",
       "      <td>4</td>\n",
       "      <td>14</td>\n",
       "      <td>2</td>\n",
       "      <td>3</td>\n",
       "      <td>6</td>\n",
       "      <td>6</td>\n",
       "      <td>0</td>\n",
       "      <td>...</td>\n",
       "      <td>0</td>\n",
       "      <td>0</td>\n",
       "      <td>0</td>\n",
       "      <td>0</td>\n",
       "      <td>0</td>\n",
       "      <td>0</td>\n",
       "      <td>0</td>\n",
       "      <td>0</td>\n",
       "      <td>0</td>\n",
       "      <td>1</td>\n",
       "    </tr>\n",
       "    <tr>\n",
       "      <th>...</th>\n",
       "      <td>...</td>\n",
       "      <td>...</td>\n",
       "      <td>...</td>\n",
       "      <td>...</td>\n",
       "      <td>...</td>\n",
       "      <td>...</td>\n",
       "      <td>...</td>\n",
       "      <td>...</td>\n",
       "      <td>...</td>\n",
       "      <td>...</td>\n",
       "      <td>...</td>\n",
       "      <td>...</td>\n",
       "      <td>...</td>\n",
       "      <td>...</td>\n",
       "      <td>...</td>\n",
       "      <td>...</td>\n",
       "      <td>...</td>\n",
       "      <td>...</td>\n",
       "      <td>...</td>\n",
       "      <td>...</td>\n",
       "      <td>...</td>\n",
       "    </tr>\n",
       "    <tr>\n",
       "      <th>85382</th>\n",
       "      <td>12</td>\n",
       "      <td>2</td>\n",
       "      <td>5</td>\n",
       "      <td>4</td>\n",
       "      <td>11</td>\n",
       "      <td>0</td>\n",
       "      <td>5</td>\n",
       "      <td>7</td>\n",
       "      <td>6</td>\n",
       "      <td>1</td>\n",
       "      <td>...</td>\n",
       "      <td>0</td>\n",
       "      <td>0</td>\n",
       "      <td>0</td>\n",
       "      <td>2</td>\n",
       "      <td>0</td>\n",
       "      <td>0</td>\n",
       "      <td>0</td>\n",
       "      <td>0</td>\n",
       "      <td>0</td>\n",
       "      <td>0</td>\n",
       "    </tr>\n",
       "    <tr>\n",
       "      <th>85383</th>\n",
       "      <td>8</td>\n",
       "      <td>5</td>\n",
       "      <td>1</td>\n",
       "      <td>8</td>\n",
       "      <td>20</td>\n",
       "      <td>1</td>\n",
       "      <td>0</td>\n",
       "      <td>8</td>\n",
       "      <td>4</td>\n",
       "      <td>0</td>\n",
       "      <td>...</td>\n",
       "      <td>0</td>\n",
       "      <td>0</td>\n",
       "      <td>0</td>\n",
       "      <td>0</td>\n",
       "      <td>0</td>\n",
       "      <td>0</td>\n",
       "      <td>0</td>\n",
       "      <td>0</td>\n",
       "      <td>0</td>\n",
       "      <td>1</td>\n",
       "    </tr>\n",
       "    <tr>\n",
       "      <th>85384</th>\n",
       "      <td>6</td>\n",
       "      <td>0</td>\n",
       "      <td>2</td>\n",
       "      <td>3</td>\n",
       "      <td>23</td>\n",
       "      <td>1</td>\n",
       "      <td>3</td>\n",
       "      <td>6</td>\n",
       "      <td>8</td>\n",
       "      <td>0</td>\n",
       "      <td>...</td>\n",
       "      <td>0</td>\n",
       "      <td>0</td>\n",
       "      <td>0</td>\n",
       "      <td>0</td>\n",
       "      <td>0</td>\n",
       "      <td>0</td>\n",
       "      <td>0</td>\n",
       "      <td>0</td>\n",
       "      <td>0</td>\n",
       "      <td>0</td>\n",
       "    </tr>\n",
       "    <tr>\n",
       "      <th>85385</th>\n",
       "      <td>6</td>\n",
       "      <td>1</td>\n",
       "      <td>2</td>\n",
       "      <td>3</td>\n",
       "      <td>6</td>\n",
       "      <td>1</td>\n",
       "      <td>1</td>\n",
       "      <td>5</td>\n",
       "      <td>8</td>\n",
       "      <td>0</td>\n",
       "      <td>...</td>\n",
       "      <td>0</td>\n",
       "      <td>0</td>\n",
       "      <td>0</td>\n",
       "      <td>0</td>\n",
       "      <td>0</td>\n",
       "      <td>0</td>\n",
       "      <td>0</td>\n",
       "      <td>0</td>\n",
       "      <td>0</td>\n",
       "      <td>1</td>\n",
       "    </tr>\n",
       "    <tr>\n",
       "      <th>85386</th>\n",
       "      <td>4</td>\n",
       "      <td>2</td>\n",
       "      <td>7</td>\n",
       "      <td>1</td>\n",
       "      <td>16</td>\n",
       "      <td>0</td>\n",
       "      <td>1</td>\n",
       "      <td>8</td>\n",
       "      <td>12</td>\n",
       "      <td>0</td>\n",
       "      <td>...</td>\n",
       "      <td>0</td>\n",
       "      <td>0</td>\n",
       "      <td>0</td>\n",
       "      <td>0</td>\n",
       "      <td>0</td>\n",
       "      <td>0</td>\n",
       "      <td>0</td>\n",
       "      <td>0</td>\n",
       "      <td>0</td>\n",
       "      <td>0</td>\n",
       "    </tr>\n",
       "  </tbody>\n",
       "</table>\n",
       "<p>85387 rows × 703 columns</p>\n",
       "</div>"
      ],
      "text/plain": [
       "        0  1  2  3   4  5  6   7   8  9  ...  693  694  695  696  697  698  \\\n",
       "0       9  2  2  3  10  0  4  10   9  0  ...    0    0    0    0    0    0   \n",
       "1       6  2  0  7  23  1  0   3   4  0  ...    0    0    0    0    0    0   \n",
       "2       7  1  2  3  11  2  4   5   9  1  ...    0    0    0    0    0    0   \n",
       "3       8  3  1  6  23  2  6   0   2  1  ...    0    0    0    0    0    0   \n",
       "4       7  2  2  4  14  2  3   6   6  0  ...    0    0    0    0    0    0   \n",
       "...    .. .. .. ..  .. .. ..  ..  .. ..  ...  ...  ...  ...  ...  ...  ...   \n",
       "85382  12  2  5  4  11  0  5   7   6  1  ...    0    0    0    2    0    0   \n",
       "85383   8  5  1  8  20  1  0   8   4  0  ...    0    0    0    0    0    0   \n",
       "85384   6  0  2  3  23  1  3   6   8  0  ...    0    0    0    0    0    0   \n",
       "85385   6  1  2  3   6  1  1   5   8  0  ...    0    0    0    0    0    0   \n",
       "85386   4  2  7  1  16  0  1   8  12  0  ...    0    0    0    0    0    0   \n",
       "\n",
       "       699  700  701  langue  \n",
       "0        0    0    0       1  \n",
       "1        0    0    0       0  \n",
       "2        0    0    0       0  \n",
       "3        0    0    0       0  \n",
       "4        0    0    0       1  \n",
       "...    ...  ...  ...     ...  \n",
       "85382    0    0    0       0  \n",
       "85383    0    0    0       1  \n",
       "85384    0    0    0       0  \n",
       "85385    0    0    0       1  \n",
       "85386    0    0    0       0  \n",
       "\n",
       "[85387 rows x 703 columns]"
      ]
     },
     "execution_count": 9,
     "metadata": {},
     "output_type": "execute_result"
    }
   ],
   "source": [
    "df_ENvsDE=df_ENvsDE.sample(frac=1).reset_index(drop=True)\n",
    "df_ENvsDE"
   ]
  },
  {
   "cell_type": "markdown",
   "metadata": {},
   "source": [
    "## Questions:\n",
    "* 1) Réaliser une classification binaire en utilisant les méthodes linéaires suivantes: regression \"ridge\", LASSO et SVM (sans noyau !).\n",
    " * Pour ces méthodes vous devez faire une recherche du meilleur paramètre de régularisation ;\n",
    " * Vous devrez égalemement selectionner les deux languages de votre choix\n",
    " * Dans l'exemple fourni la taille des block de caractère extraits "
   ]
  },
  {
   "cell_type": "code",
   "execution_count": 10,
   "metadata": {},
   "outputs": [],
   "source": [
    "from sklearn.linear_model import LogisticRegression\n",
    "from sklearn.model_selection import train_test_split"
   ]
  },
  {
   "cell_type": "code",
   "execution_count": 11,
   "metadata": {},
   "outputs": [],
   "source": [
    "X=df_ENvsDE.drop([\"langue\"],axis=1)\n",
    "y=df_ENvsDE[['langue']]"
   ]
  },
  {
   "cell_type": "code",
   "execution_count": 12,
   "metadata": {},
   "outputs": [
    {
     "data": {
      "text/html": [
       "<div>\n",
       "<style scoped>\n",
       "    .dataframe tbody tr th:only-of-type {\n",
       "        vertical-align: middle;\n",
       "    }\n",
       "\n",
       "    .dataframe tbody tr th {\n",
       "        vertical-align: top;\n",
       "    }\n",
       "\n",
       "    .dataframe thead th {\n",
       "        text-align: right;\n",
       "    }\n",
       "</style>\n",
       "<table border=\"1\" class=\"dataframe\">\n",
       "  <thead>\n",
       "    <tr style=\"text-align: right;\">\n",
       "      <th></th>\n",
       "      <th>0</th>\n",
       "      <th>1</th>\n",
       "      <th>2</th>\n",
       "      <th>3</th>\n",
       "      <th>4</th>\n",
       "      <th>5</th>\n",
       "      <th>6</th>\n",
       "      <th>7</th>\n",
       "      <th>8</th>\n",
       "      <th>9</th>\n",
       "      <th>...</th>\n",
       "      <th>692</th>\n",
       "      <th>693</th>\n",
       "      <th>694</th>\n",
       "      <th>695</th>\n",
       "      <th>696</th>\n",
       "      <th>697</th>\n",
       "      <th>698</th>\n",
       "      <th>699</th>\n",
       "      <th>700</th>\n",
       "      <th>701</th>\n",
       "    </tr>\n",
       "  </thead>\n",
       "  <tbody>\n",
       "    <tr>\n",
       "      <th>0</th>\n",
       "      <td>9</td>\n",
       "      <td>2</td>\n",
       "      <td>2</td>\n",
       "      <td>3</td>\n",
       "      <td>10</td>\n",
       "      <td>0</td>\n",
       "      <td>4</td>\n",
       "      <td>10</td>\n",
       "      <td>9</td>\n",
       "      <td>0</td>\n",
       "      <td>...</td>\n",
       "      <td>0</td>\n",
       "      <td>0</td>\n",
       "      <td>0</td>\n",
       "      <td>0</td>\n",
       "      <td>0</td>\n",
       "      <td>0</td>\n",
       "      <td>0</td>\n",
       "      <td>0</td>\n",
       "      <td>0</td>\n",
       "      <td>0</td>\n",
       "    </tr>\n",
       "    <tr>\n",
       "      <th>1</th>\n",
       "      <td>6</td>\n",
       "      <td>2</td>\n",
       "      <td>0</td>\n",
       "      <td>7</td>\n",
       "      <td>23</td>\n",
       "      <td>1</td>\n",
       "      <td>0</td>\n",
       "      <td>3</td>\n",
       "      <td>4</td>\n",
       "      <td>0</td>\n",
       "      <td>...</td>\n",
       "      <td>0</td>\n",
       "      <td>0</td>\n",
       "      <td>0</td>\n",
       "      <td>0</td>\n",
       "      <td>0</td>\n",
       "      <td>0</td>\n",
       "      <td>0</td>\n",
       "      <td>0</td>\n",
       "      <td>0</td>\n",
       "      <td>0</td>\n",
       "    </tr>\n",
       "    <tr>\n",
       "      <th>2</th>\n",
       "      <td>7</td>\n",
       "      <td>1</td>\n",
       "      <td>2</td>\n",
       "      <td>3</td>\n",
       "      <td>11</td>\n",
       "      <td>2</td>\n",
       "      <td>4</td>\n",
       "      <td>5</td>\n",
       "      <td>9</td>\n",
       "      <td>1</td>\n",
       "      <td>...</td>\n",
       "      <td>0</td>\n",
       "      <td>0</td>\n",
       "      <td>0</td>\n",
       "      <td>0</td>\n",
       "      <td>0</td>\n",
       "      <td>0</td>\n",
       "      <td>0</td>\n",
       "      <td>0</td>\n",
       "      <td>0</td>\n",
       "      <td>0</td>\n",
       "    </tr>\n",
       "    <tr>\n",
       "      <th>3</th>\n",
       "      <td>8</td>\n",
       "      <td>3</td>\n",
       "      <td>1</td>\n",
       "      <td>6</td>\n",
       "      <td>23</td>\n",
       "      <td>2</td>\n",
       "      <td>6</td>\n",
       "      <td>0</td>\n",
       "      <td>2</td>\n",
       "      <td>1</td>\n",
       "      <td>...</td>\n",
       "      <td>0</td>\n",
       "      <td>0</td>\n",
       "      <td>0</td>\n",
       "      <td>0</td>\n",
       "      <td>0</td>\n",
       "      <td>0</td>\n",
       "      <td>0</td>\n",
       "      <td>0</td>\n",
       "      <td>0</td>\n",
       "      <td>0</td>\n",
       "    </tr>\n",
       "    <tr>\n",
       "      <th>4</th>\n",
       "      <td>7</td>\n",
       "      <td>2</td>\n",
       "      <td>2</td>\n",
       "      <td>4</td>\n",
       "      <td>14</td>\n",
       "      <td>2</td>\n",
       "      <td>3</td>\n",
       "      <td>6</td>\n",
       "      <td>6</td>\n",
       "      <td>0</td>\n",
       "      <td>...</td>\n",
       "      <td>0</td>\n",
       "      <td>0</td>\n",
       "      <td>0</td>\n",
       "      <td>0</td>\n",
       "      <td>0</td>\n",
       "      <td>0</td>\n",
       "      <td>0</td>\n",
       "      <td>0</td>\n",
       "      <td>0</td>\n",
       "      <td>0</td>\n",
       "    </tr>\n",
       "  </tbody>\n",
       "</table>\n",
       "<p>5 rows × 702 columns</p>\n",
       "</div>"
      ],
      "text/plain": [
       "   0    1    2    3    4    5    6    7    8    9    ...  692  693  694  695  \\\n",
       "0    9    2    2    3   10    0    4   10    9    0  ...    0    0    0    0   \n",
       "1    6    2    0    7   23    1    0    3    4    0  ...    0    0    0    0   \n",
       "2    7    1    2    3   11    2    4    5    9    1  ...    0    0    0    0   \n",
       "3    8    3    1    6   23    2    6    0    2    1  ...    0    0    0    0   \n",
       "4    7    2    2    4   14    2    3    6    6    0  ...    0    0    0    0   \n",
       "\n",
       "   696  697  698  699  700  701  \n",
       "0    0    0    0    0    0    0  \n",
       "1    0    0    0    0    0    0  \n",
       "2    0    0    0    0    0    0  \n",
       "3    0    0    0    0    0    0  \n",
       "4    0    0    0    0    0    0  \n",
       "\n",
       "[5 rows x 702 columns]"
      ]
     },
     "execution_count": 12,
     "metadata": {},
     "output_type": "execute_result"
    }
   ],
   "source": [
    "X.head()"
   ]
  },
  {
   "cell_type": "code",
   "execution_count": 13,
   "metadata": {},
   "outputs": [
    {
     "data": {
      "text/html": [
       "<div>\n",
       "<style scoped>\n",
       "    .dataframe tbody tr th:only-of-type {\n",
       "        vertical-align: middle;\n",
       "    }\n",
       "\n",
       "    .dataframe tbody tr th {\n",
       "        vertical-align: top;\n",
       "    }\n",
       "\n",
       "    .dataframe thead th {\n",
       "        text-align: right;\n",
       "    }\n",
       "</style>\n",
       "<table border=\"1\" class=\"dataframe\">\n",
       "  <thead>\n",
       "    <tr style=\"text-align: right;\">\n",
       "      <th></th>\n",
       "      <th>langue</th>\n",
       "    </tr>\n",
       "  </thead>\n",
       "  <tbody>\n",
       "    <tr>\n",
       "      <th>0</th>\n",
       "      <td>1</td>\n",
       "    </tr>\n",
       "    <tr>\n",
       "      <th>1</th>\n",
       "      <td>0</td>\n",
       "    </tr>\n",
       "    <tr>\n",
       "      <th>2</th>\n",
       "      <td>0</td>\n",
       "    </tr>\n",
       "    <tr>\n",
       "      <th>3</th>\n",
       "      <td>0</td>\n",
       "    </tr>\n",
       "    <tr>\n",
       "      <th>4</th>\n",
       "      <td>1</td>\n",
       "    </tr>\n",
       "  </tbody>\n",
       "</table>\n",
       "</div>"
      ],
      "text/plain": [
       "   langue\n",
       "0       1\n",
       "1       0\n",
       "2       0\n",
       "3       0\n",
       "4       1"
      ]
     },
     "execution_count": 13,
     "metadata": {},
     "output_type": "execute_result"
    }
   ],
   "source": [
    "y.head()"
   ]
  },
  {
   "cell_type": "markdown",
   "metadata": {},
   "source": [
    "#### Train_test_split"
   ]
  },
  {
   "cell_type": "code",
   "execution_count": 14,
   "metadata": {},
   "outputs": [],
   "source": [
    "X_train, X_test, y_train, y_test = train_test_split(X, y, test_size=0.7)"
   ]
  },
  {
   "cell_type": "markdown",
   "metadata": {},
   "source": [
    "#### metrics pour evaluer notre modèle"
   ]
  },
  {
   "cell_type": "code",
   "execution_count": 15,
   "metadata": {},
   "outputs": [],
   "source": [
    "from sklearn import metrics\n",
    "from sklearn.metrics import confusion_matrix,plot_confusion_matrix\n",
    "\n",
    "\n",
    "def classification_metrics(y, y_pred):\n",
    "    return pd.DataFrame(\n",
    "        {\n",
    "            \"accuracy_score\": metrics.accuracy_score(y_true=y, y_pred=y_pred),\n",
    "            \"f1_score\": metrics.f1_score(y_true=y, y_pred=y_pred),\n",
    "            \"precision_score\": metrics.precision_score(\n",
    "                y_true=y, y_pred=y_pred),\n",
    "            \"recall_score\": metrics.recall_score(y_true=y, y_pred=y_pred)\n",
    "        },\n",
    "        index=[0])"
   ]
  },
  {
   "cell_type": "markdown",
   "metadata": {},
   "source": [
    "## Ridge"
   ]
  },
  {
   "cell_type": "code",
   "execution_count": 16,
   "metadata": {},
   "outputs": [],
   "source": [
    "from sklearn.linear_model import Ridge"
   ]
  },
  {
   "cell_type": "code",
   "execution_count": 17,
   "metadata": {},
   "outputs": [],
   "source": [
    "clf_ridge=Ridge()"
   ]
  },
  {
   "cell_type": "code",
   "execution_count": 18,
   "metadata": {},
   "outputs": [],
   "source": [
    "clf_ridge.fit(X_train,y_train)\n",
    "y_pred_ridge=clf_ridge.predict(X_test)"
   ]
  },
  {
   "cell_type": "code",
   "execution_count": 19,
   "metadata": {},
   "outputs": [
    {
     "data": {
      "text/plain": [
       "0.9556479574110788"
      ]
     },
     "execution_count": 19,
     "metadata": {},
     "output_type": "execute_result"
    }
   ],
   "source": [
    "clf_ridge.score(X_test,y_test)"
   ]
  },
  {
   "cell_type": "code",
   "execution_count": 20,
   "metadata": {},
   "outputs": [
    {
     "data": {
      "text/plain": [
       "(array([   37.,  5190., 20189.,  4550.,   228.,   149.,  2318., 15607.,\n",
       "        10956.,   547.]),\n",
       " array([-0.42512368, -0.24577244, -0.06642119,  0.11293005,  0.2922813 ,\n",
       "         0.47163254,  0.65098379,  0.83033504,  1.00968628,  1.18903753,\n",
       "         1.36838877]),\n",
       " <BarContainer object of 10 artists>)"
      ]
     },
     "execution_count": 20,
     "metadata": {},
     "output_type": "execute_result"
    },
    {
     "data": {
      "image/png": "[encoded data removed]",
      "text/plain": [
       "<Figure size 432x288 with 1 Axes>"
      ]
     },
     "metadata": {
      "needs_background": "light"
     },
     "output_type": "display_data"
    }
   ],
   "source": [
    "import matplotlib.pyplot as plt\n",
    "plt.hist(y_pred_ridge)"
   ]
  },
  {
   "cell_type": "markdown",
   "metadata": {},
   "source": [
    "à partir du score et de l'histogram on peut dire que le modele Ridge fonctionne très bien, il faut par la suite faire une classification avec un seuil 0.5 (partie B de cette question)"
   ]
  },
  {
   "cell_type": "markdown",
   "metadata": {},
   "source": [
    "## LASSO"
   ]
  },
  {
   "cell_type": "code",
   "execution_count": 21,
   "metadata": {},
   "outputs": [],
   "source": [
    "from sklearn import linear_model"
   ]
  },
  {
   "cell_type": "code",
   "execution_count": 22,
   "metadata": {},
   "outputs": [
    {
     "data": {
      "text/plain": [
       "Lasso()"
      ]
     },
     "execution_count": 22,
     "metadata": {},
     "output_type": "execute_result"
    }
   ],
   "source": [
    "clf_lasso=linear_model.Lasso()\n",
    "clf_lasso.fit(X_train,y_train)"
   ]
  },
  {
   "cell_type": "code",
   "execution_count": 23,
   "metadata": {},
   "outputs": [
    {
     "data": {
      "text/plain": [
       "array([0.49154796, 0.56321771, 0.3959883 , ..., 0.3959883 , 0.61099754,\n",
       "       0.56321771])"
      ]
     },
     "execution_count": 23,
     "metadata": {},
     "output_type": "execute_result"
    }
   ],
   "source": [
    "y_pred_lass=clf_lasso.predict(X_test)\n",
    "y_pred_lass"
   ]
  },
  {
   "cell_type": "code",
   "execution_count": 24,
   "metadata": {},
   "outputs": [
    {
     "data": {
      "text/plain": [
       "0.21542738723066335"
      ]
     },
     "execution_count": 24,
     "metadata": {},
     "output_type": "execute_result"
    }
   ],
   "source": [
    "clf_lasso.score(X_test,y_test)"
   ]
  },
  {
   "cell_type": "code",
   "execution_count": 25,
   "metadata": {},
   "outputs": [
    {
     "data": {
      "text/plain": [
       "(array([1.6559e+04, 1.3406e+04, 1.0201e+04, 9.3910e+03, 6.4060e+03,\n",
       "        3.3280e+03, 3.8900e+02, 6.7000e+01, 1.6000e+01, 8.0000e+00]),\n",
       " array([0.37209839, 0.4246562 , 0.47721401, 0.52977183, 0.58232964,\n",
       "        0.63488745, 0.68744526, 0.74000308, 0.79256089, 0.8451187 ,\n",
       "        0.89767651]),\n",
       " <BarContainer object of 10 artists>)"
      ]
     },
     "execution_count": 25,
     "metadata": {},
     "output_type": "execute_result"
    },
    {
     "data": {
      "image/png": "[encoded data removed]",
      "text/plain": [
       "<Figure size 432x288 with 1 Axes>"
      ]
     },
     "metadata": {
      "needs_background": "light"
     },
     "output_type": "display_data"
    }
   ],
   "source": [
    "plt.hist(y_pred_lass)"
   ]
  },
  {
   "cell_type": "markdown",
   "metadata": {},
   "source": [
    "le score et l'histogramme montre que le modèle lasso est très mauvais, on va essayer par la suite des chercher des meilleurs hyperparamètres avant de faire la classification "
   ]
  },
  {
   "cell_type": "markdown",
   "metadata": {},
   "source": [
    "### Cherchons des hyperparametres pour améliorer la performance des deux modeles modèles"
   ]
  },
  {
   "cell_type": "code",
   "execution_count": 26,
   "metadata": {},
   "outputs": [],
   "source": [
    "lasso_params = {'alpha':[0.02, 0.024, 0.025, 0.026, 0.03]}\n",
    "ridge_params = {'alpha':[200, 230, 250,265, 270, 275, 290, 300, 500]}"
   ]
  },
  {
   "cell_type": "code",
   "execution_count": 27,
   "metadata": {},
   "outputs": [
    {
     "name": "stdout",
     "output_type": "stream",
     "text": [
      "Fitting 5 folds for each of 5 candidates, totalling 25 fits\n",
      "[CV 1/5] END .....................................alpha=0.02; total time=   0.6s\n",
      "[CV 2/5] END .....................................alpha=0.02; total time=   0.6s\n",
      "[CV 3/5] END .....................................alpha=0.02; total time=   0.6s\n",
      "[CV 4/5] END .....................................alpha=0.02; total time=   0.6s\n",
      "[CV 5/5] END .....................................alpha=0.02; total time=   0.6s\n",
      "[CV 1/5] END ....................................alpha=0.024; total time=   0.7s\n",
      "[CV 2/5] END ....................................alpha=0.024; total time=   0.6s\n",
      "[CV 3/5] END ....................................alpha=0.024; total time=   0.6s\n",
      "[CV 4/5] END ....................................alpha=0.024; total time=   0.6s\n",
      "[CV 5/5] END ....................................alpha=0.024; total time=   0.6s\n",
      "[CV 1/5] END ....................................alpha=0.025; total time=   0.6s\n",
      "[CV 2/5] END ....................................alpha=0.025; total time=   0.6s\n",
      "[CV 3/5] END ....................................alpha=0.025; total time=   0.6s\n",
      "[CV 4/5] END ....................................alpha=0.025; total time=   0.6s\n",
      "[CV 5/5] END ....................................alpha=0.025; total time=   0.6s\n",
      "[CV 1/5] END ....................................alpha=0.026; total time=   0.6s\n",
      "[CV 2/5] END ....................................alpha=0.026; total time=   0.6s\n",
      "[CV 3/5] END ....................................alpha=0.026; total time=   0.6s\n",
      "[CV 4/5] END ....................................alpha=0.026; total time=   0.6s\n",
      "[CV 5/5] END ....................................alpha=0.026; total time=   0.6s\n",
      "[CV 1/5] END .....................................alpha=0.03; total time=   0.6s\n",
      "[CV 2/5] END .....................................alpha=0.03; total time=   0.6s\n",
      "[CV 3/5] END .....................................alpha=0.03; total time=   0.5s\n",
      "[CV 4/5] END .....................................alpha=0.03; total time=   0.6s\n",
      "[CV 5/5] END .....................................alpha=0.03; total time=   0.6s\n"
     ]
    },
    {
     "data": {
      "text/plain": [
       "GridSearchCV(estimator=Lasso(),\n",
       "             param_grid={'alpha': [0.02, 0.024, 0.025, 0.026, 0.03]},\n",
       "             verbose=3)"
      ]
     },
     "execution_count": 27,
     "metadata": {},
     "output_type": "execute_result"
    }
   ],
   "source": [
    "from sklearn.model_selection import GridSearchCV \n",
    "  \n",
    "# defining parameter range \n",
    "  \n",
    "grid_lasso = GridSearchCV(linear_model.Lasso(), lasso_params, refit = True, verbose = 3) \n",
    "  \n",
    "# fitting the model for grid search \n",
    "grid_lasso.fit(X_train, y_train.values.ravel()) "
   ]
  },
  {
   "cell_type": "code",
   "execution_count": 28,
   "metadata": {},
   "outputs": [
    {
     "name": "stdout",
     "output_type": "stream",
     "text": [
      "{'alpha': 0.02}\n",
      "Lasso(alpha=0.02)\n"
     ]
    }
   ],
   "source": [
    "# print best parameter after tuning \n",
    "print(grid_lasso.best_params_) \n",
    "  \n",
    "# print how our model looks after hyper-parameter tuning \n",
    "print(grid_lasso.best_estimator_) "
   ]
  },
  {
   "cell_type": "code",
   "execution_count": 29,
   "metadata": {},
   "outputs": [
    {
     "data": {
      "text/plain": [
       "0.908466449476248"
      ]
     },
     "execution_count": 29,
     "metadata": {},
     "output_type": "execute_result"
    }
   ],
   "source": [
    "grid_lasso.score(X_test,y_test)"
   ]
  },
  {
   "cell_type": "code",
   "execution_count": 30,
   "metadata": {},
   "outputs": [],
   "source": [
    "y_pred_grid_lasso= grid_lasso.predict(X_test) "
   ]
  },
  {
   "cell_type": "code",
   "execution_count": 31,
   "metadata": {},
   "outputs": [
    {
     "data": {
      "text/plain": [
       "(array([3.0300e+02, 8.3100e+03, 1.7060e+04, 4.2140e+03, 5.8700e+02,\n",
       "        5.2890e+03, 1.5716e+04, 7.6540e+03, 6.2200e+02, 1.6000e+01]),\n",
       " array([-0.4267225 , -0.22041752, -0.01411253,  0.19219245,  0.39849743,\n",
       "         0.60480242,  0.8111074 ,  1.01741239,  1.22371737,  1.43002235,\n",
       "         1.63632734]),\n",
       " <BarContainer object of 10 artists>)"
      ]
     },
     "execution_count": 31,
     "metadata": {},
     "output_type": "execute_result"
    },
    {
     "data": {
      "image/png": "[encoded data removed]",
      "text/plain": [
       "<Figure size 432x288 with 1 Axes>"
      ]
     },
     "metadata": {
      "needs_background": "light"
     },
     "output_type": "display_data"
    }
   ],
   "source": [
    "plt.hist(y_pred_grid_lasso)"
   ]
  },
  {
   "cell_type": "code",
   "execution_count": 32,
   "metadata": {},
   "outputs": [
    {
     "data": {
      "text/plain": [
       "0"
      ]
     },
     "execution_count": 32,
     "metadata": {},
     "output_type": "execute_result"
    }
   ],
   "source": [
    "(y_pred_grid_lasso==0.5).sum()"
   ]
  },
  {
   "cell_type": "code",
   "execution_count": 33,
   "metadata": {},
   "outputs": [
    {
     "name": "stdout",
     "output_type": "stream",
     "text": [
      "Fitting 5 folds for each of 9 candidates, totalling 45 fits\n",
      "[CV 1/5] END ......................................alpha=200; total time=   0.3s\n",
      "[CV 2/5] END ......................................alpha=200; total time=   0.3s\n",
      "[CV 3/5] END ......................................alpha=200; total time=   0.3s\n",
      "[CV 4/5] END ......................................alpha=200; total time=   0.3s\n",
      "[CV 5/5] END ......................................alpha=200; total time=   0.3s\n",
      "[CV 1/5] END ......................................alpha=230; total time=   0.3s\n",
      "[CV 2/5] END ......................................alpha=230; total time=   0.3s\n",
      "[CV 3/5] END ......................................alpha=230; total time=   0.3s\n",
      "[CV 4/5] END ......................................alpha=230; total time=   0.3s\n",
      "[CV 5/5] END ......................................alpha=230; total time=   0.3s\n",
      "[CV 1/5] END ......................................alpha=250; total time=   0.3s\n",
      "[CV 2/5] END ......................................alpha=250; total time=   0.3s\n",
      "[CV 3/5] END ......................................alpha=250; total time=   0.3s\n",
      "[CV 4/5] END ......................................alpha=250; total time=   0.3s\n",
      "[CV 5/5] END ......................................alpha=250; total time=   0.3s\n",
      "[CV 1/5] END ......................................alpha=265; total time=   0.3s\n",
      "[CV 2/5] END ......................................alpha=265; total time=   0.3s\n",
      "[CV 3/5] END ......................................alpha=265; total time=   0.3s\n",
      "[CV 4/5] END ......................................alpha=265; total time=   0.3s\n",
      "[CV 5/5] END ......................................alpha=265; total time=   0.4s\n",
      "[CV 1/5] END ......................................alpha=270; total time=   0.4s\n",
      "[CV 2/5] END ......................................alpha=270; total time=   0.3s\n",
      "[CV 3/5] END ......................................alpha=270; total time=   0.3s\n",
      "[CV 4/5] END ......................................alpha=270; total time=   0.3s\n",
      "[CV 5/5] END ......................................alpha=270; total time=   0.3s\n",
      "[CV 1/5] END ......................................alpha=275; total time=   0.3s\n",
      "[CV 2/5] END ......................................alpha=275; total time=   0.3s\n",
      "[CV 3/5] END ......................................alpha=275; total time=   0.3s\n",
      "[CV 4/5] END ......................................alpha=275; total time=   0.3s\n",
      "[CV 5/5] END ......................................alpha=275; total time=   0.3s\n",
      "[CV 1/5] END ......................................alpha=290; total time=   0.3s\n",
      "[CV 2/5] END ......................................alpha=290; total time=   0.3s\n",
      "[CV 3/5] END ......................................alpha=290; total time=   0.3s\n",
      "[CV 4/5] END ......................................alpha=290; total time=   0.3s\n",
      "[CV 5/5] END ......................................alpha=290; total time=   0.3s\n",
      "[CV 1/5] END ......................................alpha=300; total time=   0.3s\n",
      "[CV 2/5] END ......................................alpha=300; total time=   0.3s\n",
      "[CV 3/5] END ......................................alpha=300; total time=   0.3s\n",
      "[CV 4/5] END ......................................alpha=300; total time=   0.3s\n",
      "[CV 5/5] END ......................................alpha=300; total time=   0.3s\n",
      "[CV 1/5] END ......................................alpha=500; total time=   0.3s\n",
      "[CV 2/5] END ......................................alpha=500; total time=   0.3s\n",
      "[CV 3/5] END ......................................alpha=500; total time=   0.3s\n",
      "[CV 4/5] END ......................................alpha=500; total time=   0.3s\n",
      "[CV 5/5] END ......................................alpha=500; total time=   0.3s\n"
     ]
    },
    {
     "data": {
      "text/plain": [
       "GridSearchCV(estimator=Ridge(),\n",
       "             param_grid={'alpha': [200, 230, 250, 265, 270, 275, 290, 300,\n",
       "                                   500]},\n",
       "             verbose=3)"
      ]
     },
     "execution_count": 33,
     "metadata": {},
     "output_type": "execute_result"
    }
   ],
   "source": [
    "grid_ridge = GridSearchCV(Ridge(), ridge_params, refit = True, verbose = 3) \n",
    "  \n",
    "# fitting the model for grid search \n",
    "grid_ridge.fit(X_train, y_train.values.ravel()) "
   ]
  },
  {
   "cell_type": "code",
   "execution_count": 34,
   "metadata": {},
   "outputs": [
    {
     "name": "stdout",
     "output_type": "stream",
     "text": [
      "{'alpha': 200}\n",
      "Ridge(alpha=200)\n"
     ]
    }
   ],
   "source": [
    "# print best parameter after tuning \n",
    "print(grid_ridge.best_params_) \n",
    "  \n",
    "# print how our model looks after hyper-parameter tuning \n",
    "print(grid_ridge.best_estimator_) "
   ]
  },
  {
   "cell_type": "code",
   "execution_count": 35,
   "metadata": {},
   "outputs": [
    {
     "data": {
      "text/plain": [
       "0.9555311214187032"
      ]
     },
     "execution_count": 35,
     "metadata": {},
     "output_type": "execute_result"
    }
   ],
   "source": [
    "grid_ridge.score(X_test,y_test)"
   ]
  },
  {
   "cell_type": "markdown",
   "metadata": {},
   "source": [
    "les performances sont persque les mêmes pour le modèle ridge"
   ]
  },
  {
   "cell_type": "code",
   "execution_count": 36,
   "metadata": {},
   "outputs": [],
   "source": [
    "y_pred_grid_ridge= grid_ridge.predict(X_test) "
   ]
  },
  {
   "cell_type": "markdown",
   "metadata": {},
   "source": [
    "je veux considérer 0.5 comme seuil pour faire la classification, cepandant de crainte que les valeurs prédites prènnent 0.5 je fait la vérification pour savoir s'il faut inculre l'égalité dans l'une des classes"
   ]
  },
  {
   "cell_type": "code",
   "execution_count": 37,
   "metadata": {},
   "outputs": [
    {
     "data": {
      "text/plain": [
       "0"
      ]
     },
     "execution_count": 37,
     "metadata": {},
     "output_type": "execute_result"
    }
   ],
   "source": [
    "(y_pred_grid_ridge==0).sum()"
   ]
  },
  {
   "cell_type": "code",
   "execution_count": 38,
   "metadata": {},
   "outputs": [
    {
     "data": {
      "text/plain": [
       "0.9555311214187032"
      ]
     },
     "execution_count": 38,
     "metadata": {},
     "output_type": "execute_result"
    }
   ],
   "source": [
    "grid_ridge.score(X_test,y_test)"
   ]
  },
  {
   "cell_type": "code",
   "execution_count": 39,
   "metadata": {},
   "outputs": [
    {
     "data": {
      "text/plain": [
       "(array([  664., 14028., 14059.,  1317.,   166.,   226.,  4335., 16919.,\n",
       "         7777.,   280.]),\n",
       " array([-0.32673128, -0.15576871,  0.01519385,  0.18615642,  0.35711898,\n",
       "         0.52808154,  0.69904411,  0.87000667,  1.04096924,  1.2119318 ,\n",
       "         1.38289436]),\n",
       " <BarContainer object of 10 artists>)"
      ]
     },
     "execution_count": 39,
     "metadata": {},
     "output_type": "execute_result"
    },
    {
     "data": {
      "image/png": "[encoded data removed]",
      "text/plain": [
       "<Figure size 432x288 with 1 Axes>"
      ]
     },
     "metadata": {
      "needs_background": "light"
     },
     "output_type": "display_data"
    }
   ],
   "source": [
    "plt.hist(y_pred_grid_ridge)"
   ]
  },
  {
   "cell_type": "markdown",
   "metadata": {},
   "source": [
    "### classification"
   ]
  },
  {
   "cell_type": "code",
   "execution_count": 40,
   "metadata": {},
   "outputs": [],
   "source": [
    "for i in range(len(y_pred_grid_ridge)):\n",
    "    if(y_pred_grid_ridge[i]<0.5):\n",
    "        y_pred_grid_ridge[i]=0\n",
    "    else:\n",
    "        y_pred_grid_ridge[i]=1           "
   ]
  },
  {
   "cell_type": "code",
   "execution_count": 41,
   "metadata": {},
   "outputs": [],
   "source": [
    "for i in range(len(y_pred_grid_lasso)):\n",
    "    if(y_pred_grid_lasso[i]<0.5):\n",
    "        y_pred_grid_lasso[i]=0\n",
    "    else:\n",
    "        y_pred_grid_lasso[i]=1    "
   ]
  },
  {
   "cell_type": "markdown",
   "metadata": {},
   "source": [
    "### evaluation des modèles"
   ]
  },
  {
   "cell_type": "code",
   "execution_count": 42,
   "metadata": {},
   "outputs": [
    {
     "name": "stdout",
     "output_type": "stream",
     "text": [
      "Classification metrics pour le test du modèle ridge avec les meilleurs hyperparamètres \n",
      "   accuracy_score  f1_score  precision_score  recall_score\n",
      "0         0.99836   0.99834         0.996787      0.999898\n"
     ]
    }
   ],
   "source": [
    "print(\"Classification metrics pour le test du modèle ridge avec les meilleurs hyperparamètres \")\n",
    "print(classification_metrics(y_test, y_pred_grid_ridge))"
   ]
  },
  {
   "cell_type": "code",
   "execution_count": 43,
   "metadata": {},
   "outputs": [
    {
     "name": "stdout",
     "output_type": "stream",
     "text": [
      "Classification metrics pour le test du modèle lasso avec les meilleurs hyperparamètres\n",
      "   accuracy_score  f1_score  precision_score  recall_score\n",
      "0        0.996319  0.996278         0.993522       0.99905\n"
     ]
    }
   ],
   "source": [
    "print(\"Classification metrics pour le test du modèle lasso avec les meilleurs hyperparamètres\")\n",
    "print(classification_metrics(y_test, y_pred_grid_lasso))"
   ]
  },
  {
   "cell_type": "markdown",
   "metadata": {},
   "source": [
    "### Matrice de confusion"
   ]
  },
  {
   "cell_type": "code",
   "execution_count": 44,
   "metadata": {},
   "outputs": [
    {
     "data": {
      "text/plain": [
       "array([[30203,    95],\n",
       "       [    3, 29470]], dtype=int64)"
      ]
     },
     "execution_count": 44,
     "metadata": {},
     "output_type": "execute_result"
    }
   ],
   "source": [
    "confusion_matrix(y_test, y_pred_grid_ridge)"
   ]
  },
  {
   "cell_type": "code",
   "execution_count": 45,
   "metadata": {},
   "outputs": [
    {
     "data": {
      "text/plain": [
       "array([[30106,   192],\n",
       "       [   28, 29445]], dtype=int64)"
      ]
     },
     "execution_count": 45,
     "metadata": {},
     "output_type": "execute_result"
    }
   ],
   "source": [
    "confusion_matrix(y_test, y_pred_grid_lasso)"
   ]
  },
  {
   "cell_type": "markdown",
   "metadata": {},
   "source": [
    "## SVM Sans Noyau"
   ]
  },
  {
   "cell_type": "code",
   "execution_count": 46,
   "metadata": {},
   "outputs": [
    {
     "data": {
      "text/plain": [
       "SVC(kernel='linear')"
      ]
     },
     "execution_count": 46,
     "metadata": {},
     "output_type": "execute_result"
    }
   ],
   "source": [
    "from sklearn.svm import SVC\n",
    "svclassifier = SVC(kernel='linear')\n",
    "svclassifier.fit(X_train, y_train.values.ravel())"
   ]
  },
  {
   "cell_type": "code",
   "execution_count": 47,
   "metadata": {},
   "outputs": [],
   "source": [
    "y_pred4 = svclassifier.predict(X_test)"
   ]
  },
  {
   "cell_type": "code",
   "execution_count": 48,
   "metadata": {},
   "outputs": [
    {
     "data": {
      "text/plain": [
       "array([[30274,    24],\n",
       "       [    6, 29467]], dtype=int64)"
      ]
     },
     "execution_count": 48,
     "metadata": {},
     "output_type": "execute_result"
    }
   ],
   "source": [
    "confusion_matrix(y_test,y_pred4)"
   ]
  },
  {
   "cell_type": "code",
   "execution_count": 49,
   "metadata": {},
   "outputs": [
    {
     "data": {
      "image/png": "[encoded data removed]",
      "text/plain": [
       "<Figure size 432x288 with 2 Axes>"
      ]
     },
     "metadata": {
      "needs_background": "light"
     },
     "output_type": "display_data"
    }
   ],
   "source": [
    "plot_confusion_matrix(svclassifier, X_test, y_test)  \n",
    "plt.show() "
   ]
  },
  {
   "cell_type": "code",
   "execution_count": 50,
   "metadata": {},
   "outputs": [
    {
     "name": "stdout",
     "output_type": "stream",
     "text": [
      "   accuracy_score  f1_score  precision_score  recall_score\n",
      "0        0.999498  0.999491         0.999186      0.999796\n"
     ]
    }
   ],
   "source": [
    "print(classification_metrics(y_test, y_pred4))"
   ]
  },
  {
   "cell_type": "markdown",
   "metadata": {},
   "source": [
    "### Cherchons les hyperparametres pour améliorer la performance du modèle svm"
   ]
  },
  {
   "cell_type": "code",
   "execution_count": 51,
   "metadata": {},
   "outputs": [
    {
     "name": "stdout",
     "output_type": "stream",
     "text": [
      "Fitting 5 folds for each of 25 candidates, totalling 125 fits\n",
      "[CV 1/5] END ..................C=0.1, gamma=1, kernel=linear; total time=   2.0s\n",
      "[CV 2/5] END ..................C=0.1, gamma=1, kernel=linear; total time=   1.9s\n",
      "[CV 3/5] END ..................C=0.1, gamma=1, kernel=linear; total time=   2.1s\n",
      "[CV 4/5] END ..................C=0.1, gamma=1, kernel=linear; total time=   2.1s\n",
      "[CV 5/5] END ..................C=0.1, gamma=1, kernel=linear; total time=   2.1s\n",
      "[CV 1/5] END ................C=0.1, gamma=0.1, kernel=linear; total time=   2.2s\n",
      "[CV 2/5] END ................C=0.1, gamma=0.1, kernel=linear; total time=   2.0s\n",
      "[CV 3/5] END ................C=0.1, gamma=0.1, kernel=linear; total time=   2.2s\n",
      "[CV 4/5] END ................C=0.1, gamma=0.1, kernel=linear; total time=   2.1s\n",
      "[CV 5/5] END ................C=0.1, gamma=0.1, kernel=linear; total time=   2.3s\n",
      "[CV 1/5] END ...............C=0.1, gamma=0.01, kernel=linear; total time=   2.1s\n",
      "[CV 2/5] END ...............C=0.1, gamma=0.01, kernel=linear; total time=   1.9s\n",
      "[CV 3/5] END ...............C=0.1, gamma=0.01, kernel=linear; total time=   2.2s\n",
      "[CV 4/5] END ...............C=0.1, gamma=0.01, kernel=linear; total time=   2.2s\n",
      "[CV 5/5] END ...............C=0.1, gamma=0.01, kernel=linear; total time=   2.3s\n",
      "[CV 1/5] END ..............C=0.1, gamma=0.001, kernel=linear; total time=   2.1s\n",
      "[CV 2/5] END ..............C=0.1, gamma=0.001, kernel=linear; total time=   2.2s\n",
      "[CV 3/5] END ..............C=0.1, gamma=0.001, kernel=linear; total time=   2.1s\n",
      "[CV 4/5] END ..............C=0.1, gamma=0.001, kernel=linear; total time=   2.1s\n",
      "[CV 5/5] END ..............C=0.1, gamma=0.001, kernel=linear; total time=   2.1s\n",
      "[CV 1/5] END .............C=0.1, gamma=0.0001, kernel=linear; total time=   2.2s\n",
      "[CV 2/5] END .............C=0.1, gamma=0.0001, kernel=linear; total time=   2.1s\n",
      "[CV 3/5] END .............C=0.1, gamma=0.0001, kernel=linear; total time=   2.2s\n",
      "[CV 4/5] END .............C=0.1, gamma=0.0001, kernel=linear; total time=   2.3s\n",
      "[CV 5/5] END .............C=0.1, gamma=0.0001, kernel=linear; total time=   2.3s\n",
      "[CV 1/5] END ....................C=1, gamma=1, kernel=linear; total time=   2.2s\n",
      "[CV 2/5] END ....................C=1, gamma=1, kernel=linear; total time=   2.4s\n",
      "[CV 3/5] END ....................C=1, gamma=1, kernel=linear; total time=   2.4s\n",
      "[CV 4/5] END ....................C=1, gamma=1, kernel=linear; total time=   2.2s\n",
      "[CV 5/5] END ....................C=1, gamma=1, kernel=linear; total time=   2.1s\n",
      "[CV 1/5] END ..................C=1, gamma=0.1, kernel=linear; total time=   2.1s\n",
      "[CV 2/5] END ..................C=1, gamma=0.1, kernel=linear; total time=   2.0s\n",
      "[CV 3/5] END ..................C=1, gamma=0.1, kernel=linear; total time=   2.1s\n",
      "[CV 4/5] END ..................C=1, gamma=0.1, kernel=linear; total time=   2.1s\n",
      "[CV 5/5] END ..................C=1, gamma=0.1, kernel=linear; total time=   2.1s\n",
      "[CV 1/5] END .................C=1, gamma=0.01, kernel=linear; total time=   2.1s\n",
      "[CV 2/5] END .................C=1, gamma=0.01, kernel=linear; total time=   2.0s\n",
      "[CV 3/5] END .................C=1, gamma=0.01, kernel=linear; total time=   2.1s\n",
      "[CV 4/5] END .................C=1, gamma=0.01, kernel=linear; total time=   2.2s\n",
      "[CV 5/5] END .................C=1, gamma=0.01, kernel=linear; total time=   2.2s\n",
      "[CV 1/5] END ................C=1, gamma=0.001, kernel=linear; total time=   2.3s\n",
      "[CV 2/5] END ................C=1, gamma=0.001, kernel=linear; total time=   2.1s\n",
      "[CV 3/5] END ................C=1, gamma=0.001, kernel=linear; total time=   2.1s\n",
      "[CV 4/5] END ................C=1, gamma=0.001, kernel=linear; total time=   2.0s\n",
      "[CV 5/5] END ................C=1, gamma=0.001, kernel=linear; total time=   1.9s\n",
      "[CV 1/5] END ...............C=1, gamma=0.0001, kernel=linear; total time=   2.0s\n",
      "[CV 2/5] END ...............C=1, gamma=0.0001, kernel=linear; total time=   2.1s\n",
      "[CV 3/5] END ...............C=1, gamma=0.0001, kernel=linear; total time=   2.0s\n",
      "[CV 4/5] END ...............C=1, gamma=0.0001, kernel=linear; total time=   1.9s\n",
      "[CV 5/5] END ...............C=1, gamma=0.0001, kernel=linear; total time=   1.9s\n",
      "[CV 1/5] END ...................C=10, gamma=1, kernel=linear; total time=   2.0s\n",
      "[CV 2/5] END ...................C=10, gamma=1, kernel=linear; total time=   1.9s\n",
      "[CV 3/5] END ...................C=10, gamma=1, kernel=linear; total time=   2.0s\n",
      "[CV 4/5] END ...................C=10, gamma=1, kernel=linear; total time=   2.0s\n",
      "[CV 5/5] END ...................C=10, gamma=1, kernel=linear; total time=   2.1s\n",
      "[CV 1/5] END .................C=10, gamma=0.1, kernel=linear; total time=   2.1s\n",
      "[CV 2/5] END .................C=10, gamma=0.1, kernel=linear; total time=   2.0s\n",
      "[CV 3/5] END .................C=10, gamma=0.1, kernel=linear; total time=   2.2s\n",
      "[CV 4/5] END .................C=10, gamma=0.1, kernel=linear; total time=   2.1s\n",
      "[CV 5/5] END .................C=10, gamma=0.1, kernel=linear; total time=   2.0s\n",
      "[CV 1/5] END ................C=10, gamma=0.01, kernel=linear; total time=   2.2s\n",
      "[CV 2/5] END ................C=10, gamma=0.01, kernel=linear; total time=   2.1s\n",
      "[CV 3/5] END ................C=10, gamma=0.01, kernel=linear; total time=   2.2s\n",
      "[CV 4/5] END ................C=10, gamma=0.01, kernel=linear; total time=   2.8s\n",
      "[CV 5/5] END ................C=10, gamma=0.01, kernel=linear; total time=   2.0s\n",
      "[CV 1/5] END ...............C=10, gamma=0.001, kernel=linear; total time=   2.1s\n",
      "[CV 2/5] END ...............C=10, gamma=0.001, kernel=linear; total time=   1.9s\n",
      "[CV 3/5] END ...............C=10, gamma=0.001, kernel=linear; total time=   2.1s\n",
      "[CV 4/5] END ...............C=10, gamma=0.001, kernel=linear; total time=   2.2s\n",
      "[CV 5/5] END ...............C=10, gamma=0.001, kernel=linear; total time=   2.1s\n",
      "[CV 1/5] END ..............C=10, gamma=0.0001, kernel=linear; total time=   2.1s\n",
      "[CV 2/5] END ..............C=10, gamma=0.0001, kernel=linear; total time=   2.0s\n",
      "[CV 3/5] END ..............C=10, gamma=0.0001, kernel=linear; total time=   2.2s\n",
      "[CV 4/5] END ..............C=10, gamma=0.0001, kernel=linear; total time=   2.1s\n",
      "[CV 5/5] END ..............C=10, gamma=0.0001, kernel=linear; total time=   2.0s\n",
      "[CV 1/5] END ..................C=100, gamma=1, kernel=linear; total time=   2.0s\n",
      "[CV 2/5] END ..................C=100, gamma=1, kernel=linear; total time=   1.9s\n",
      "[CV 3/5] END ..................C=100, gamma=1, kernel=linear; total time=   2.1s\n",
      "[CV 4/5] END ..................C=100, gamma=1, kernel=linear; total time=   2.0s\n",
      "[CV 5/5] END ..................C=100, gamma=1, kernel=linear; total time=   2.0s\n",
      "[CV 1/5] END ................C=100, gamma=0.1, kernel=linear; total time=   2.1s\n",
      "[CV 2/5] END ................C=100, gamma=0.1, kernel=linear; total time=   1.9s\n",
      "[CV 3/5] END ................C=100, gamma=0.1, kernel=linear; total time=   2.2s\n",
      "[CV 4/5] END ................C=100, gamma=0.1, kernel=linear; total time=   2.0s\n",
      "[CV 5/5] END ................C=100, gamma=0.1, kernel=linear; total time=   2.1s\n",
      "[CV 1/5] END ...............C=100, gamma=0.01, kernel=linear; total time=   2.1s\n",
      "[CV 2/5] END ...............C=100, gamma=0.01, kernel=linear; total time=   1.9s\n",
      "[CV 3/5] END ...............C=100, gamma=0.01, kernel=linear; total time=   2.3s\n",
      "[CV 4/5] END ...............C=100, gamma=0.01, kernel=linear; total time=   2.1s\n",
      "[CV 5/5] END ...............C=100, gamma=0.01, kernel=linear; total time=   2.1s\n",
      "[CV 1/5] END ..............C=100, gamma=0.001, kernel=linear; total time=   2.1s\n",
      "[CV 2/5] END ..............C=100, gamma=0.001, kernel=linear; total time=   2.0s\n",
      "[CV 3/5] END ..............C=100, gamma=0.001, kernel=linear; total time=   2.1s\n",
      "[CV 4/5] END ..............C=100, gamma=0.001, kernel=linear; total time=   2.1s\n",
      "[CV 5/5] END ..............C=100, gamma=0.001, kernel=linear; total time=   2.1s\n",
      "[CV 1/5] END .............C=100, gamma=0.0001, kernel=linear; total time=   2.1s\n",
      "[CV 2/5] END .............C=100, gamma=0.0001, kernel=linear; total time=   1.9s\n",
      "[CV 3/5] END .............C=100, gamma=0.0001, kernel=linear; total time=   2.0s\n",
      "[CV 4/5] END .............C=100, gamma=0.0001, kernel=linear; total time=   1.9s\n",
      "[CV 5/5] END .............C=100, gamma=0.0001, kernel=linear; total time=   1.9s\n",
      "[CV 1/5] END .................C=1000, gamma=1, kernel=linear; total time=   2.0s\n"
     ]
    },
    {
     "name": "stdout",
     "output_type": "stream",
     "text": [
      "[CV 2/5] END .................C=1000, gamma=1, kernel=linear; total time=   1.9s\n",
      "[CV 3/5] END .................C=1000, gamma=1, kernel=linear; total time=   2.0s\n",
      "[CV 4/5] END .................C=1000, gamma=1, kernel=linear; total time=   1.9s\n",
      "[CV 5/5] END .................C=1000, gamma=1, kernel=linear; total time=   1.9s\n",
      "[CV 1/5] END ...............C=1000, gamma=0.1, kernel=linear; total time=   2.0s\n",
      "[CV 2/5] END ...............C=1000, gamma=0.1, kernel=linear; total time=   1.9s\n",
      "[CV 3/5] END ...............C=1000, gamma=0.1, kernel=linear; total time=   2.0s\n",
      "[CV 4/5] END ...............C=1000, gamma=0.1, kernel=linear; total time=   1.9s\n",
      "[CV 5/5] END ...............C=1000, gamma=0.1, kernel=linear; total time=   1.9s\n",
      "[CV 1/5] END ..............C=1000, gamma=0.01, kernel=linear; total time=   1.9s\n",
      "[CV 2/5] END ..............C=1000, gamma=0.01, kernel=linear; total time=   1.9s\n",
      "[CV 3/5] END ..............C=1000, gamma=0.01, kernel=linear; total time=   2.0s\n",
      "[CV 4/5] END ..............C=1000, gamma=0.01, kernel=linear; total time=   1.9s\n",
      "[CV 5/5] END ..............C=1000, gamma=0.01, kernel=linear; total time=   1.9s\n",
      "[CV 1/5] END .............C=1000, gamma=0.001, kernel=linear; total time=   1.9s\n",
      "[CV 2/5] END .............C=1000, gamma=0.001, kernel=linear; total time=   1.9s\n",
      "[CV 3/5] END .............C=1000, gamma=0.001, kernel=linear; total time=   2.0s\n",
      "[CV 4/5] END .............C=1000, gamma=0.001, kernel=linear; total time=   1.9s\n",
      "[CV 5/5] END .............C=1000, gamma=0.001, kernel=linear; total time=   1.9s\n",
      "[CV 1/5] END ............C=1000, gamma=0.0001, kernel=linear; total time=   1.9s\n",
      "[CV 2/5] END ............C=1000, gamma=0.0001, kernel=linear; total time=   1.9s\n",
      "[CV 3/5] END ............C=1000, gamma=0.0001, kernel=linear; total time=   2.0s\n",
      "[CV 4/5] END ............C=1000, gamma=0.0001, kernel=linear; total time=   1.9s\n",
      "[CV 5/5] END ............C=1000, gamma=0.0001, kernel=linear; total time=   1.9s\n"
     ]
    },
    {
     "data": {
      "text/plain": [
       "GridSearchCV(estimator=SVC(),\n",
       "             param_grid={'C': [0.1, 1, 10, 100, 1000],\n",
       "                         'gamma': [1, 0.1, 0.01, 0.001, 0.0001],\n",
       "                         'kernel': ['linear']},\n",
       "             verbose=3)"
      ]
     },
     "execution_count": 51,
     "metadata": {},
     "output_type": "execute_result"
    }
   ],
   "source": [
    "from sklearn.model_selection import GridSearchCV \n",
    "  \n",
    "# defining parameter range \n",
    "param_grid = {'C': [0.1, 1, 10, 100, 1000],  \n",
    "              'gamma': [1, 0.1, 0.01, 0.001, 0.0001], \n",
    "              'kernel': ['linear']}  \n",
    "  \n",
    "grid = GridSearchCV(SVC(), param_grid, refit = True, verbose = 3) \n",
    "  \n",
    "# fitting the model for grid search \n",
    "grid.fit(X_train, y_train.values.ravel()) "
   ]
  },
  {
   "cell_type": "code",
   "execution_count": 52,
   "metadata": {},
   "outputs": [
    {
     "name": "stdout",
     "output_type": "stream",
     "text": [
      "{'C': 0.1, 'gamma': 1, 'kernel': 'linear'}\n",
      "SVC(C=0.1, gamma=1, kernel='linear')\n"
     ]
    }
   ],
   "source": [
    "# print best parameter after tuning \n",
    "print(grid.best_params_) \n",
    "  \n",
    "# print how our model looks after hyper-parameter tuning \n",
    "print(grid.best_estimator_) "
   ]
  },
  {
   "cell_type": "code",
   "execution_count": 53,
   "metadata": {},
   "outputs": [
    {
     "name": "stdout",
     "output_type": "stream",
     "text": [
      "   accuracy_score  f1_score  precision_score  recall_score\n",
      "0        0.999498  0.999491         0.999186      0.999796\n"
     ]
    }
   ],
   "source": [
    "grid_predictions = grid.predict(X_test) \n",
    "  \n",
    "# print classification report \n",
    "print(classification_metrics(y_test, grid_predictions))"
   ]
  },
  {
   "cell_type": "code",
   "execution_count": 54,
   "metadata": {},
   "outputs": [
    {
     "data": {
      "image/png": "[encoded data removed]",
      "text/plain": [
       "<Figure size 432x288 with 2 Axes>"
      ]
     },
     "metadata": {
      "needs_background": "light"
     },
     "output_type": "display_data"
    }
   ],
   "source": [
    "plot_confusion_matrix(grid, X_test, grid_predictions)  \n",
    "plt.show() "
   ]
  },
  {
   "cell_type": "markdown",
   "metadata": {},
   "source": [
    "## Questions:\n",
    "* 2) Réaliser une classification binaire avec l'une des méthodes linéaire précédent en utilisant la réduction de dimension (ACP par exemple, ou une autre méthode)\n"
   ]
  },
  {
   "cell_type": "markdown",
   "metadata": {},
   "source": [
    "cherchons premièrement le n_compenents idéale pour faire la pca sur ce jeu de données:\n",
    "on peut faire ceci grace au plot de la variance expliquée cumulative en fonction des nombres de composants"
   ]
  },
  {
   "cell_type": "code",
   "execution_count": 55,
   "metadata": {},
   "outputs": [],
   "source": [
    "from sklearn.decomposition import PCA"
   ]
  },
  {
   "cell_type": "code",
   "execution_count": 56,
   "metadata": {},
   "outputs": [
    {
     "data": {
      "image/png": "[encoded data removed]",
      "text/plain": [
       "<Figure size 432x288 with 1 Axes>"
      ]
     },
     "metadata": {
      "needs_background": "light"
     },
     "output_type": "display_data"
    }
   ],
   "source": [
    "pca = PCA().fit(X_train)\n",
    "plt.plot(np.cumsum(pca.explained_variance_ratio_))\n",
    "plt.xlabel('number of components')\n",
    "plt.ylabel('cumulative explained variance');"
   ]
  },
  {
   "cell_type": "markdown",
   "metadata": {},
   "source": [
    "On peut comprendre du plot qu'il nous faut 400 composantes pour décrire à 100% de la variance"
   ]
  },
  {
   "cell_type": "code",
   "execution_count": 57,
   "metadata": {},
   "outputs": [],
   "source": [
    "pca = PCA(n_components=400)\n",
    "X_pca=pca.fit_transform(X_train)\n",
    "X_pca_test=pca.fit_transform(X_test)"
   ]
  },
  {
   "cell_type": "code",
   "execution_count": 58,
   "metadata": {},
   "outputs": [
    {
     "data": {
      "text/plain": [
       "(25616, 400)"
      ]
     },
     "execution_count": 58,
     "metadata": {},
     "output_type": "execute_result"
    }
   ],
   "source": [
    "X_pca.shape"
   ]
  },
  {
   "cell_type": "code",
   "execution_count": 59,
   "metadata": {},
   "outputs": [
    {
     "data": {
      "text/plain": [
       "array([[ 7.25025375e+00,  1.59821845e+00, -3.92276733e+00, ...,\n",
       "         1.33899409e-02, -2.99575792e-02, -5.03217921e-02],\n",
       "       [ 3.95566888e+00,  3.41402585e-01, -4.56422373e-01, ...,\n",
       "        -4.53401359e-02,  6.36677482e-02, -1.14560250e-02],\n",
       "       [ 1.19574102e+01, -5.42348321e+00, -6.15618330e+00, ...,\n",
       "        -2.04254017e-01,  2.06207188e-01,  1.57812377e-01],\n",
       "       ...,\n",
       "       [-8.55497307e+00, -1.91746832e-01,  1.30281656e+00, ...,\n",
       "        -1.18106580e-01,  9.18512829e-04, -1.33483147e-02],\n",
       "       [ 6.72139979e+00, -3.36918837e-01, -2.83174906e+00, ...,\n",
       "         4.18043837e-03, -4.53501451e-03, -4.64794562e-02],\n",
       "       [ 3.57670761e+00,  1.43017706e+00, -3.19890145e+00, ...,\n",
       "        -3.64207066e-02,  1.23870036e-01, -1.46894023e-01]])"
      ]
     },
     "execution_count": 59,
     "metadata": {},
     "output_type": "execute_result"
    }
   ],
   "source": [
    "X_pca"
   ]
  },
  {
   "cell_type": "code",
   "execution_count": 60,
   "metadata": {},
   "outputs": [],
   "source": [
    "pca=linear_model.Lasso()"
   ]
  },
  {
   "cell_type": "code",
   "execution_count": 61,
   "metadata": {},
   "outputs": [
    {
     "data": {
      "text/plain": [
       "Lasso()"
      ]
     },
     "execution_count": 61,
     "metadata": {},
     "output_type": "execute_result"
    }
   ],
   "source": [
    "pca.fit(X_pca, y_train)"
   ]
  },
  {
   "cell_type": "code",
   "execution_count": 62,
   "metadata": {},
   "outputs": [],
   "source": [
    "y_pred_pca=pca.predict(X_pca_test)"
   ]
  },
  {
   "cell_type": "code",
   "execution_count": 63,
   "metadata": {},
   "outputs": [
    {
     "data": {
      "text/plain": [
       "-1.4758525554298747"
      ]
     },
     "execution_count": 63,
     "metadata": {},
     "output_type": "execute_result"
    }
   ],
   "source": [
    "pca.score(X_pca_test,y_test)"
   ]
  },
  {
   "cell_type": "markdown",
   "metadata": {},
   "source": [
    "On remarque largement que la pca donne de meilleurs résultat pour le modèle lasso qui avait un score de 21%\n",
    "alors qu'avec la pca on est monté à 72%"
   ]
  },
  {
   "cell_type": "code",
   "execution_count": 64,
   "metadata": {},
   "outputs": [
    {
     "data": {
      "text/plain": [
       "(array([  134.,  2697., 11845., 12043.,  4131.,  7382., 13228.,  7119.,\n",
       "         1148.,    44.]),\n",
       " array([-0.26473754, -0.10561046,  0.05351662,  0.21264369,  0.37177077,\n",
       "         0.53089785,  0.69002493,  0.84915201,  1.00827908,  1.16740616,\n",
       "         1.32653324]),\n",
       " <BarContainer object of 10 artists>)"
      ]
     },
     "execution_count": 64,
     "metadata": {},
     "output_type": "execute_result"
    },
    {
     "data": {
      "image/png": "[encoded data removed]",
      "text/plain": [
       "<Figure size 432x288 with 1 Axes>"
      ]
     },
     "metadata": {
      "needs_background": "light"
     },
     "output_type": "display_data"
    }
   ],
   "source": [
    "plt.hist(y_pred_pca)"
   ]
  },
  {
   "cell_type": "code",
   "execution_count": 65,
   "metadata": {},
   "outputs": [],
   "source": [
    "for i in range(len(y_pred_pca)):\n",
    "    if(y_pred_pca[i]<0.5):\n",
    "        y_pred_pca[i]=0\n",
    "    else:\n",
    "        y_pred_pca[i]=1   "
   ]
  },
  {
   "cell_type": "code",
   "execution_count": 66,
   "metadata": {},
   "outputs": [
    {
     "name": "stdout",
     "output_type": "stream",
     "text": [
      "Classification metrics for test data\n",
      "   accuracy_score  f1_score  precision_score  recall_score\n",
      "0        0.022352  0.010834          0.01081      0.010857\n"
     ]
    }
   ],
   "source": [
    "print(\"Classification metrics for test data\")\n",
    "print(classification_metrics(y_test, y_pred_pca))"
   ]
  },
  {
   "cell_type": "code",
   "execution_count": 67,
   "metadata": {},
   "outputs": [
    {
     "data": {
      "text/plain": [
       "array([[ 1016, 29282],\n",
       "       [29153,   320]], dtype=int64)"
      ]
     },
     "execution_count": 67,
     "metadata": {},
     "output_type": "execute_result"
    }
   ],
   "source": [
    "confusion_matrix(y_test,y_pred_pca)"
   ]
  },
  {
   "cell_type": "markdown",
   "metadata": {},
   "source": [
    "## Questions:\n",
    "* 3) Modifier la taille des données extraites (BlockSz) afin de trouver une taille à partir de la quelle un taux d'erreur de l'ordre de 10% est observée\n",
    " * Avec cette taille de block comparer les méthodes de classification précédentes (avec et sans réduction de dimentionalité)"
   ]
  },
  {
   "cell_type": "markdown",
   "metadata": {},
   "source": [
    "En se basant sur le cours: on a erreur=(1 - np.sum(y_pred==y_test).astype(float)/n_test)\n",
    "\n",
    "il faut alors chercher le nouveau n_test pour un taux d'erreur 10%\n",
    "j'ai pris comme modèle linéaire Lasso\n",
    "\n",
    "Pour N--->  on a BlockSz\n",
    "erreur= (1- (sum(y_pred==y_test))/n_test)\n",
    "et\n",
    "n_test=0.3*N\n",
    "et\n",
    "N'---> BlockSz'\n",
    "\n",
    "alors : (1- (sum(y_pred==y_test))/n_test') = 0.1\n",
    "\n",
    "----> on cherche n_test'-----> on trouve par la suite N' par : n_test'=0.3*N'\n",
    "\n",
    "et enfin par la règle du triangle :\n",
    "\n",
    "BlockSz'=N'* BlockSz/N"
   ]
  },
  {
   "cell_type": "code",
   "execution_count": 68,
   "metadata": {},
   "outputs": [],
   "source": [
    "erreur= 0.1"
   ]
  },
  {
   "cell_type": "code",
   "execution_count": 69,
   "metadata": {},
   "outputs": [
    {
     "data": {
      "text/plain": [
       "array([0., 1., 0., ..., 0., 1., 1.])"
      ]
     },
     "execution_count": 69,
     "metadata": {},
     "output_type": "execute_result"
    }
   ],
   "source": [
    "y_pred_grid_lasso"
   ]
  },
  {
   "cell_type": "code",
   "execution_count": 70,
   "metadata": {},
   "outputs": [],
   "source": [
    "n_test_prime=(y_pred_grid_lasso==y_test[\"langue\"].to_numpy().astype(float)).sum()/(1-erreur)"
   ]
  },
  {
   "cell_type": "code",
   "execution_count": 71,
   "metadata": {},
   "outputs": [
    {
     "data": {
      "text/plain": [
       "66167.77777777778"
      ]
     },
     "execution_count": 71,
     "metadata": {},
     "output_type": "execute_result"
    }
   ],
   "source": [
    "n_test_prime"
   ]
  },
  {
   "cell_type": "code",
   "execution_count": 72,
   "metadata": {},
   "outputs": [],
   "source": [
    "N_totale_prime=n_test_prime/0.3"
   ]
  },
  {
   "cell_type": "code",
   "execution_count": 73,
   "metadata": {},
   "outputs": [
    {
     "data": {
      "text/plain": [
       "220559.25925925927"
      ]
     },
     "execution_count": 73,
     "metadata": {},
     "output_type": "execute_result"
    }
   ],
   "source": [
    "N_totale_prime"
   ]
  },
  {
   "cell_type": "code",
   "execution_count": 74,
   "metadata": {},
   "outputs": [],
   "source": [
    "BlockSz_prime=(N_totale_prime*100)/df_ENvsDE.shape[0]"
   ]
  },
  {
   "cell_type": "code",
   "execution_count": 75,
   "metadata": {},
   "outputs": [],
   "source": [
    "BlockSz_prime=BlockSz_prime.astype(int)"
   ]
  },
  {
   "cell_type": "code",
   "execution_count": 76,
   "metadata": {},
   "outputs": [
    {
     "data": {
      "text/plain": [
       "258"
      ]
     },
     "execution_count": 76,
     "metadata": {},
     "output_type": "execute_result"
    }
   ],
   "source": [
    "BlockSz_prime"
   ]
  },
  {
   "cell_type": "markdown",
   "metadata": {},
   "source": [
    "après avoir trouver le nouveau 'BlockSz_prime', on refait le même travail en utilisant le modèle lasso avec les meilleurs hyperparametres"
   ]
  },
  {
   "cell_type": "code",
   "execution_count": 77,
   "metadata": {},
   "outputs": [],
   "source": [
    "# Ouverture du fichier texte contenant les caracteres alphabetiques \"brutes\"\n",
    "textGERMAN = open('./textDatasets/GERMAN')\n",
    "# Lecture\n",
    "DE=textGERMAN.read()\n",
    "textGERMAN.close()\n",
    "# Calcule du nombre de blocks (arrondi par defaut) de BlockSz caracteres\n",
    "NbBlock=int(np.floor(len(DE)/BlockSz_prime))\n",
    "# Creation des tableaux de donnees textuelles et de features\n",
    "DataDE=[]\n",
    "FeaDE=[]\n",
    "# Pour tous les indices de blocks ...\n",
    "for index in range(NbBlock):\n",
    "    # Exctraction des donnees texte du block\n",
    "    DataDE.append(DE[index*BlockSz_prime:(index+1)*BlockSz_prime])\n",
    "    # Comptage de chacun des caracteres\n",
    "    countDE=[]\n",
    "    for letter in string.ascii_lowercase:\n",
    "        countDE.append(DataDE[index].count(letter))\n",
    "    # Comptage de toutes les 26**2 paires de caracteres possibles\n",
    "    for letter1 in string.ascii_lowercase:\n",
    "        for letter2 in string.ascii_lowercase:\n",
    "            countDE.append(DataDE[index].count(letter1+letter2))\n",
    "    # Une fois le vecteur de décompte obtenu  .... on ajoute ce vecteur (contenant tous les decomptes) au tableaux des features\n",
    "    FeaDE.append(countDE)\n",
    "\n",
    "# On procede de la même façon pour les differents languages ....\n",
    "textENGLISH = open('./textDatasets/ENGLISH')\n",
    "EN=textENGLISH.read()\n",
    "textENGLISH.close()\n",
    "NbBlock=int(np.floor(len(EN)/BlockSz_prime))\n",
    "DataEN=[]\n",
    "FeaEN =[]\n",
    "for index in range(NbBlock):\n",
    "    DataEN.append(EN[index*BlockSz_prime:(index+1)*BlockSz_prime])\n",
    "    countEN=[]\n",
    "    for letter in string.ascii_lowercase:\n",
    "        countEN.append(DataEN[index].count(letter))\n",
    "    for letter1 in string.ascii_lowercase:\n",
    "        for letter2 in string.ascii_lowercase:\n",
    "            countEN.append(DataEN[index].count(letter1+letter2))\n",
    "    FeaEN.append(countEN)"
   ]
  },
  {
   "cell_type": "code",
   "execution_count": 78,
   "metadata": {},
   "outputs": [],
   "source": [
    "# Ici on sauvegarde les caracteristiques, pour eviter de les recalculer à chaque fois ....\n",
    "\n",
    "np.save('./FeaEN.npy', FeaEN)\n",
    "np.save('./FeaDE.npy', FeaDE)"
   ]
  },
  {
   "cell_type": "code",
   "execution_count": 79,
   "metadata": {},
   "outputs": [],
   "source": [
    "# ... On peut simplement les loader (et commenter les cellules precedentes)\n",
    "#import numpy as np\n",
    "FeaEN = np.load('./FeaEN.npy')\n",
    "FeaDE = np.load('./FeaDE.npy')"
   ]
  },
  {
   "cell_type": "code",
   "execution_count": 80,
   "metadata": {},
   "outputs": [
    {
     "name": "stdout",
     "output_type": "stream",
     "text": [
      "(16779, 702)\n",
      "(16316, 702)\n"
     ]
    }
   ],
   "source": [
    "# Pour plus de \"facilier de manipulation\" on trasforme les donnes en \"matrice numpy\" et on affiche la dimension de la base de donnees.\n",
    "FeaDE = np.array(FeaDE)\n",
    "print(FeaDE.shape)\n",
    "\n",
    "FeaEN = np.array(FeaEN)\n",
    "print(FeaEN.shape)"
   ]
  },
  {
   "cell_type": "code",
   "execution_count": 81,
   "metadata": {},
   "outputs": [
    {
     "data": {
      "text/html": [
       "<div>\n",
       "<style scoped>\n",
       "    .dataframe tbody tr th:only-of-type {\n",
       "        vertical-align: middle;\n",
       "    }\n",
       "\n",
       "    .dataframe tbody tr th {\n",
       "        vertical-align: top;\n",
       "    }\n",
       "\n",
       "    .dataframe thead th {\n",
       "        text-align: right;\n",
       "    }\n",
       "</style>\n",
       "<table border=\"1\" class=\"dataframe\">\n",
       "  <thead>\n",
       "    <tr style=\"text-align: right;\">\n",
       "      <th></th>\n",
       "      <th>0</th>\n",
       "      <th>1</th>\n",
       "      <th>2</th>\n",
       "      <th>3</th>\n",
       "      <th>4</th>\n",
       "      <th>5</th>\n",
       "      <th>6</th>\n",
       "      <th>7</th>\n",
       "      <th>8</th>\n",
       "      <th>9</th>\n",
       "      <th>...</th>\n",
       "      <th>693</th>\n",
       "      <th>694</th>\n",
       "      <th>695</th>\n",
       "      <th>696</th>\n",
       "      <th>697</th>\n",
       "      <th>698</th>\n",
       "      <th>699</th>\n",
       "      <th>700</th>\n",
       "      <th>701</th>\n",
       "      <th>langue</th>\n",
       "    </tr>\n",
       "  </thead>\n",
       "  <tbody>\n",
       "    <tr>\n",
       "      <th>0</th>\n",
       "      <td>10</td>\n",
       "      <td>9</td>\n",
       "      <td>6</td>\n",
       "      <td>16</td>\n",
       "      <td>41</td>\n",
       "      <td>12</td>\n",
       "      <td>10</td>\n",
       "      <td>13</td>\n",
       "      <td>18</td>\n",
       "      <td>2</td>\n",
       "      <td>...</td>\n",
       "      <td>0</td>\n",
       "      <td>0</td>\n",
       "      <td>2</td>\n",
       "      <td>2</td>\n",
       "      <td>0</td>\n",
       "      <td>0</td>\n",
       "      <td>0</td>\n",
       "      <td>0</td>\n",
       "      <td>0</td>\n",
       "      <td>0</td>\n",
       "    </tr>\n",
       "    <tr>\n",
       "      <th>1</th>\n",
       "      <td>18</td>\n",
       "      <td>0</td>\n",
       "      <td>10</td>\n",
       "      <td>13</td>\n",
       "      <td>43</td>\n",
       "      <td>3</td>\n",
       "      <td>9</td>\n",
       "      <td>15</td>\n",
       "      <td>16</td>\n",
       "      <td>1</td>\n",
       "      <td>...</td>\n",
       "      <td>0</td>\n",
       "      <td>0</td>\n",
       "      <td>0</td>\n",
       "      <td>0</td>\n",
       "      <td>0</td>\n",
       "      <td>0</td>\n",
       "      <td>0</td>\n",
       "      <td>0</td>\n",
       "      <td>0</td>\n",
       "      <td>0</td>\n",
       "    </tr>\n",
       "    <tr>\n",
       "      <th>2</th>\n",
       "      <td>18</td>\n",
       "      <td>8</td>\n",
       "      <td>10</td>\n",
       "      <td>12</td>\n",
       "      <td>42</td>\n",
       "      <td>4</td>\n",
       "      <td>5</td>\n",
       "      <td>12</td>\n",
       "      <td>21</td>\n",
       "      <td>0</td>\n",
       "      <td>...</td>\n",
       "      <td>0</td>\n",
       "      <td>0</td>\n",
       "      <td>0</td>\n",
       "      <td>3</td>\n",
       "      <td>0</td>\n",
       "      <td>0</td>\n",
       "      <td>0</td>\n",
       "      <td>0</td>\n",
       "      <td>0</td>\n",
       "      <td>0</td>\n",
       "    </tr>\n",
       "    <tr>\n",
       "      <th>3</th>\n",
       "      <td>18</td>\n",
       "      <td>8</td>\n",
       "      <td>15</td>\n",
       "      <td>12</td>\n",
       "      <td>36</td>\n",
       "      <td>8</td>\n",
       "      <td>11</td>\n",
       "      <td>19</td>\n",
       "      <td>20</td>\n",
       "      <td>1</td>\n",
       "      <td>...</td>\n",
       "      <td>0</td>\n",
       "      <td>0</td>\n",
       "      <td>0</td>\n",
       "      <td>2</td>\n",
       "      <td>0</td>\n",
       "      <td>0</td>\n",
       "      <td>0</td>\n",
       "      <td>0</td>\n",
       "      <td>0</td>\n",
       "      <td>0</td>\n",
       "    </tr>\n",
       "    <tr>\n",
       "      <th>4</th>\n",
       "      <td>13</td>\n",
       "      <td>5</td>\n",
       "      <td>9</td>\n",
       "      <td>19</td>\n",
       "      <td>47</td>\n",
       "      <td>6</td>\n",
       "      <td>10</td>\n",
       "      <td>14</td>\n",
       "      <td>18</td>\n",
       "      <td>0</td>\n",
       "      <td>...</td>\n",
       "      <td>0</td>\n",
       "      <td>0</td>\n",
       "      <td>0</td>\n",
       "      <td>1</td>\n",
       "      <td>0</td>\n",
       "      <td>0</td>\n",
       "      <td>0</td>\n",
       "      <td>0</td>\n",
       "      <td>0</td>\n",
       "      <td>0</td>\n",
       "    </tr>\n",
       "  </tbody>\n",
       "</table>\n",
       "<p>5 rows × 703 columns</p>\n",
       "</div>"
      ],
      "text/plain": [
       "    0  1   2   3   4   5   6   7   8  9  ...  693  694  695  696  697  698  \\\n",
       "0  10  9   6  16  41  12  10  13  18  2  ...    0    0    2    2    0    0   \n",
       "1  18  0  10  13  43   3   9  15  16  1  ...    0    0    0    0    0    0   \n",
       "2  18  8  10  12  42   4   5  12  21  0  ...    0    0    0    3    0    0   \n",
       "3  18  8  15  12  36   8  11  19  20  1  ...    0    0    0    2    0    0   \n",
       "4  13  5   9  19  47   6  10  14  18  0  ...    0    0    0    1    0    0   \n",
       "\n",
       "   699  700  701  langue  \n",
       "0    0    0    0       0  \n",
       "1    0    0    0       0  \n",
       "2    0    0    0       0  \n",
       "3    0    0    0       0  \n",
       "4    0    0    0       0  \n",
       "\n",
       "[5 rows x 703 columns]"
      ]
     },
     "execution_count": 81,
     "metadata": {},
     "output_type": "execute_result"
    }
   ],
   "source": [
    "import pandas as pd\n",
    "df_DE_prime = pd.DataFrame(data=FeaDE)\n",
    "df_DE_prime.head()\n",
    "df_DE_prime[\"langue\"]=0\n",
    "df_DE_prime.head()"
   ]
  },
  {
   "cell_type": "code",
   "execution_count": 82,
   "metadata": {},
   "outputs": [
    {
     "data": {
      "text/html": [
       "<div>\n",
       "<style scoped>\n",
       "    .dataframe tbody tr th:only-of-type {\n",
       "        vertical-align: middle;\n",
       "    }\n",
       "\n",
       "    .dataframe tbody tr th {\n",
       "        vertical-align: top;\n",
       "    }\n",
       "\n",
       "    .dataframe thead th {\n",
       "        text-align: right;\n",
       "    }\n",
       "</style>\n",
       "<table border=\"1\" class=\"dataframe\">\n",
       "  <thead>\n",
       "    <tr style=\"text-align: right;\">\n",
       "      <th></th>\n",
       "      <th>0</th>\n",
       "      <th>1</th>\n",
       "      <th>2</th>\n",
       "      <th>3</th>\n",
       "      <th>4</th>\n",
       "      <th>5</th>\n",
       "      <th>6</th>\n",
       "      <th>7</th>\n",
       "      <th>8</th>\n",
       "      <th>9</th>\n",
       "      <th>...</th>\n",
       "      <th>693</th>\n",
       "      <th>694</th>\n",
       "      <th>695</th>\n",
       "      <th>696</th>\n",
       "      <th>697</th>\n",
       "      <th>698</th>\n",
       "      <th>699</th>\n",
       "      <th>700</th>\n",
       "      <th>701</th>\n",
       "      <th>langue</th>\n",
       "    </tr>\n",
       "  </thead>\n",
       "  <tbody>\n",
       "    <tr>\n",
       "      <th>0</th>\n",
       "      <td>19</td>\n",
       "      <td>8</td>\n",
       "      <td>8</td>\n",
       "      <td>12</td>\n",
       "      <td>30</td>\n",
       "      <td>3</td>\n",
       "      <td>7</td>\n",
       "      <td>14</td>\n",
       "      <td>24</td>\n",
       "      <td>0</td>\n",
       "      <td>...</td>\n",
       "      <td>0</td>\n",
       "      <td>0</td>\n",
       "      <td>0</td>\n",
       "      <td>0</td>\n",
       "      <td>0</td>\n",
       "      <td>0</td>\n",
       "      <td>0</td>\n",
       "      <td>0</td>\n",
       "      <td>0</td>\n",
       "      <td>1</td>\n",
       "    </tr>\n",
       "    <tr>\n",
       "      <th>1</th>\n",
       "      <td>17</td>\n",
       "      <td>4</td>\n",
       "      <td>7</td>\n",
       "      <td>13</td>\n",
       "      <td>32</td>\n",
       "      <td>4</td>\n",
       "      <td>6</td>\n",
       "      <td>19</td>\n",
       "      <td>21</td>\n",
       "      <td>0</td>\n",
       "      <td>...</td>\n",
       "      <td>0</td>\n",
       "      <td>0</td>\n",
       "      <td>0</td>\n",
       "      <td>0</td>\n",
       "      <td>0</td>\n",
       "      <td>0</td>\n",
       "      <td>0</td>\n",
       "      <td>0</td>\n",
       "      <td>0</td>\n",
       "      <td>1</td>\n",
       "    </tr>\n",
       "    <tr>\n",
       "      <th>2</th>\n",
       "      <td>23</td>\n",
       "      <td>7</td>\n",
       "      <td>5</td>\n",
       "      <td>9</td>\n",
       "      <td>34</td>\n",
       "      <td>3</td>\n",
       "      <td>3</td>\n",
       "      <td>24</td>\n",
       "      <td>15</td>\n",
       "      <td>0</td>\n",
       "      <td>...</td>\n",
       "      <td>0</td>\n",
       "      <td>0</td>\n",
       "      <td>0</td>\n",
       "      <td>0</td>\n",
       "      <td>0</td>\n",
       "      <td>0</td>\n",
       "      <td>0</td>\n",
       "      <td>0</td>\n",
       "      <td>0</td>\n",
       "      <td>1</td>\n",
       "    </tr>\n",
       "    <tr>\n",
       "      <th>3</th>\n",
       "      <td>29</td>\n",
       "      <td>6</td>\n",
       "      <td>11</td>\n",
       "      <td>11</td>\n",
       "      <td>27</td>\n",
       "      <td>9</td>\n",
       "      <td>1</td>\n",
       "      <td>16</td>\n",
       "      <td>19</td>\n",
       "      <td>0</td>\n",
       "      <td>...</td>\n",
       "      <td>0</td>\n",
       "      <td>0</td>\n",
       "      <td>0</td>\n",
       "      <td>0</td>\n",
       "      <td>0</td>\n",
       "      <td>0</td>\n",
       "      <td>0</td>\n",
       "      <td>0</td>\n",
       "      <td>0</td>\n",
       "      <td>1</td>\n",
       "    </tr>\n",
       "    <tr>\n",
       "      <th>4</th>\n",
       "      <td>20</td>\n",
       "      <td>4</td>\n",
       "      <td>4</td>\n",
       "      <td>15</td>\n",
       "      <td>34</td>\n",
       "      <td>2</td>\n",
       "      <td>6</td>\n",
       "      <td>13</td>\n",
       "      <td>16</td>\n",
       "      <td>1</td>\n",
       "      <td>...</td>\n",
       "      <td>0</td>\n",
       "      <td>0</td>\n",
       "      <td>0</td>\n",
       "      <td>0</td>\n",
       "      <td>0</td>\n",
       "      <td>0</td>\n",
       "      <td>0</td>\n",
       "      <td>0</td>\n",
       "      <td>0</td>\n",
       "      <td>1</td>\n",
       "    </tr>\n",
       "  </tbody>\n",
       "</table>\n",
       "<p>5 rows × 703 columns</p>\n",
       "</div>"
      ],
      "text/plain": [
       "    0  1   2   3   4  5  6   7   8  9  ...  693  694  695  696  697  698  699  \\\n",
       "0  19  8   8  12  30  3  7  14  24  0  ...    0    0    0    0    0    0    0   \n",
       "1  17  4   7  13  32  4  6  19  21  0  ...    0    0    0    0    0    0    0   \n",
       "2  23  7   5   9  34  3  3  24  15  0  ...    0    0    0    0    0    0    0   \n",
       "3  29  6  11  11  27  9  1  16  19  0  ...    0    0    0    0    0    0    0   \n",
       "4  20  4   4  15  34  2  6  13  16  1  ...    0    0    0    0    0    0    0   \n",
       "\n",
       "   700  701  langue  \n",
       "0    0    0       1  \n",
       "1    0    0       1  \n",
       "2    0    0       1  \n",
       "3    0    0       1  \n",
       "4    0    0       1  \n",
       "\n",
       "[5 rows x 703 columns]"
      ]
     },
     "execution_count": 82,
     "metadata": {},
     "output_type": "execute_result"
    }
   ],
   "source": [
    "import pandas as pd\n",
    "df_EN_prime = pd.DataFrame(data=FeaEN)\n",
    "df_EN_prime.head()\n",
    "df_EN_prime[\"langue\"]=1\n",
    "df_EN_prime.head()"
   ]
  },
  {
   "cell_type": "code",
   "execution_count": 83,
   "metadata": {},
   "outputs": [],
   "source": [
    "df_ENvsDE_prime=pd.concat([df_EN_prime,df_DE_prime])"
   ]
  },
  {
   "cell_type": "code",
   "execution_count": 84,
   "metadata": {},
   "outputs": [
    {
     "data": {
      "text/html": [
       "<div>\n",
       "<style scoped>\n",
       "    .dataframe tbody tr th:only-of-type {\n",
       "        vertical-align: middle;\n",
       "    }\n",
       "\n",
       "    .dataframe tbody tr th {\n",
       "        vertical-align: top;\n",
       "    }\n",
       "\n",
       "    .dataframe thead th {\n",
       "        text-align: right;\n",
       "    }\n",
       "</style>\n",
       "<table border=\"1\" class=\"dataframe\">\n",
       "  <thead>\n",
       "    <tr style=\"text-align: right;\">\n",
       "      <th></th>\n",
       "      <th>0</th>\n",
       "      <th>1</th>\n",
       "      <th>2</th>\n",
       "      <th>3</th>\n",
       "      <th>4</th>\n",
       "      <th>5</th>\n",
       "      <th>6</th>\n",
       "      <th>7</th>\n",
       "      <th>8</th>\n",
       "      <th>9</th>\n",
       "      <th>...</th>\n",
       "      <th>693</th>\n",
       "      <th>694</th>\n",
       "      <th>695</th>\n",
       "      <th>696</th>\n",
       "      <th>697</th>\n",
       "      <th>698</th>\n",
       "      <th>699</th>\n",
       "      <th>700</th>\n",
       "      <th>701</th>\n",
       "      <th>langue</th>\n",
       "    </tr>\n",
       "  </thead>\n",
       "  <tbody>\n",
       "    <tr>\n",
       "      <th>0</th>\n",
       "      <td>20</td>\n",
       "      <td>5</td>\n",
       "      <td>7</td>\n",
       "      <td>19</td>\n",
       "      <td>33</td>\n",
       "      <td>2</td>\n",
       "      <td>7</td>\n",
       "      <td>14</td>\n",
       "      <td>27</td>\n",
       "      <td>0</td>\n",
       "      <td>...</td>\n",
       "      <td>0</td>\n",
       "      <td>0</td>\n",
       "      <td>0</td>\n",
       "      <td>1</td>\n",
       "      <td>0</td>\n",
       "      <td>0</td>\n",
       "      <td>0</td>\n",
       "      <td>0</td>\n",
       "      <td>0</td>\n",
       "      <td>0</td>\n",
       "    </tr>\n",
       "    <tr>\n",
       "      <th>1</th>\n",
       "      <td>22</td>\n",
       "      <td>3</td>\n",
       "      <td>5</td>\n",
       "      <td>8</td>\n",
       "      <td>37</td>\n",
       "      <td>6</td>\n",
       "      <td>4</td>\n",
       "      <td>22</td>\n",
       "      <td>19</td>\n",
       "      <td>0</td>\n",
       "      <td>...</td>\n",
       "      <td>0</td>\n",
       "      <td>0</td>\n",
       "      <td>0</td>\n",
       "      <td>0</td>\n",
       "      <td>0</td>\n",
       "      <td>0</td>\n",
       "      <td>0</td>\n",
       "      <td>0</td>\n",
       "      <td>0</td>\n",
       "      <td>1</td>\n",
       "    </tr>\n",
       "    <tr>\n",
       "      <th>2</th>\n",
       "      <td>29</td>\n",
       "      <td>9</td>\n",
       "      <td>7</td>\n",
       "      <td>12</td>\n",
       "      <td>31</td>\n",
       "      <td>9</td>\n",
       "      <td>9</td>\n",
       "      <td>9</td>\n",
       "      <td>12</td>\n",
       "      <td>0</td>\n",
       "      <td>...</td>\n",
       "      <td>0</td>\n",
       "      <td>0</td>\n",
       "      <td>1</td>\n",
       "      <td>1</td>\n",
       "      <td>0</td>\n",
       "      <td>0</td>\n",
       "      <td>0</td>\n",
       "      <td>0</td>\n",
       "      <td>0</td>\n",
       "      <td>0</td>\n",
       "    </tr>\n",
       "    <tr>\n",
       "      <th>3</th>\n",
       "      <td>17</td>\n",
       "      <td>9</td>\n",
       "      <td>6</td>\n",
       "      <td>14</td>\n",
       "      <td>54</td>\n",
       "      <td>4</td>\n",
       "      <td>4</td>\n",
       "      <td>17</td>\n",
       "      <td>16</td>\n",
       "      <td>2</td>\n",
       "      <td>...</td>\n",
       "      <td>0</td>\n",
       "      <td>0</td>\n",
       "      <td>3</td>\n",
       "      <td>0</td>\n",
       "      <td>0</td>\n",
       "      <td>0</td>\n",
       "      <td>0</td>\n",
       "      <td>0</td>\n",
       "      <td>0</td>\n",
       "      <td>0</td>\n",
       "    </tr>\n",
       "    <tr>\n",
       "      <th>4</th>\n",
       "      <td>14</td>\n",
       "      <td>7</td>\n",
       "      <td>8</td>\n",
       "      <td>16</td>\n",
       "      <td>39</td>\n",
       "      <td>2</td>\n",
       "      <td>8</td>\n",
       "      <td>11</td>\n",
       "      <td>23</td>\n",
       "      <td>0</td>\n",
       "      <td>...</td>\n",
       "      <td>0</td>\n",
       "      <td>0</td>\n",
       "      <td>0</td>\n",
       "      <td>0</td>\n",
       "      <td>0</td>\n",
       "      <td>0</td>\n",
       "      <td>0</td>\n",
       "      <td>0</td>\n",
       "      <td>0</td>\n",
       "      <td>0</td>\n",
       "    </tr>\n",
       "    <tr>\n",
       "      <th>...</th>\n",
       "      <td>...</td>\n",
       "      <td>...</td>\n",
       "      <td>...</td>\n",
       "      <td>...</td>\n",
       "      <td>...</td>\n",
       "      <td>...</td>\n",
       "      <td>...</td>\n",
       "      <td>...</td>\n",
       "      <td>...</td>\n",
       "      <td>...</td>\n",
       "      <td>...</td>\n",
       "      <td>...</td>\n",
       "      <td>...</td>\n",
       "      <td>...</td>\n",
       "      <td>...</td>\n",
       "      <td>...</td>\n",
       "      <td>...</td>\n",
       "      <td>...</td>\n",
       "      <td>...</td>\n",
       "      <td>...</td>\n",
       "      <td>...</td>\n",
       "    </tr>\n",
       "    <tr>\n",
       "      <th>33090</th>\n",
       "      <td>24</td>\n",
       "      <td>3</td>\n",
       "      <td>5</td>\n",
       "      <td>11</td>\n",
       "      <td>29</td>\n",
       "      <td>4</td>\n",
       "      <td>8</td>\n",
       "      <td>17</td>\n",
       "      <td>24</td>\n",
       "      <td>0</td>\n",
       "      <td>...</td>\n",
       "      <td>0</td>\n",
       "      <td>0</td>\n",
       "      <td>0</td>\n",
       "      <td>0</td>\n",
       "      <td>0</td>\n",
       "      <td>0</td>\n",
       "      <td>0</td>\n",
       "      <td>0</td>\n",
       "      <td>0</td>\n",
       "      <td>1</td>\n",
       "    </tr>\n",
       "    <tr>\n",
       "      <th>33091</th>\n",
       "      <td>25</td>\n",
       "      <td>2</td>\n",
       "      <td>7</td>\n",
       "      <td>11</td>\n",
       "      <td>34</td>\n",
       "      <td>5</td>\n",
       "      <td>5</td>\n",
       "      <td>13</td>\n",
       "      <td>18</td>\n",
       "      <td>0</td>\n",
       "      <td>...</td>\n",
       "      <td>0</td>\n",
       "      <td>0</td>\n",
       "      <td>0</td>\n",
       "      <td>0</td>\n",
       "      <td>0</td>\n",
       "      <td>0</td>\n",
       "      <td>0</td>\n",
       "      <td>0</td>\n",
       "      <td>0</td>\n",
       "      <td>1</td>\n",
       "    </tr>\n",
       "    <tr>\n",
       "      <th>33092</th>\n",
       "      <td>18</td>\n",
       "      <td>6</td>\n",
       "      <td>5</td>\n",
       "      <td>13</td>\n",
       "      <td>51</td>\n",
       "      <td>5</td>\n",
       "      <td>13</td>\n",
       "      <td>11</td>\n",
       "      <td>18</td>\n",
       "      <td>0</td>\n",
       "      <td>...</td>\n",
       "      <td>0</td>\n",
       "      <td>0</td>\n",
       "      <td>1</td>\n",
       "      <td>1</td>\n",
       "      <td>0</td>\n",
       "      <td>1</td>\n",
       "      <td>0</td>\n",
       "      <td>0</td>\n",
       "      <td>0</td>\n",
       "      <td>0</td>\n",
       "    </tr>\n",
       "    <tr>\n",
       "      <th>33093</th>\n",
       "      <td>19</td>\n",
       "      <td>2</td>\n",
       "      <td>7</td>\n",
       "      <td>16</td>\n",
       "      <td>46</td>\n",
       "      <td>2</td>\n",
       "      <td>7</td>\n",
       "      <td>6</td>\n",
       "      <td>19</td>\n",
       "      <td>0</td>\n",
       "      <td>...</td>\n",
       "      <td>0</td>\n",
       "      <td>0</td>\n",
       "      <td>1</td>\n",
       "      <td>1</td>\n",
       "      <td>1</td>\n",
       "      <td>1</td>\n",
       "      <td>0</td>\n",
       "      <td>0</td>\n",
       "      <td>0</td>\n",
       "      <td>0</td>\n",
       "    </tr>\n",
       "    <tr>\n",
       "      <th>33094</th>\n",
       "      <td>19</td>\n",
       "      <td>6</td>\n",
       "      <td>7</td>\n",
       "      <td>16</td>\n",
       "      <td>51</td>\n",
       "      <td>5</td>\n",
       "      <td>9</td>\n",
       "      <td>9</td>\n",
       "      <td>15</td>\n",
       "      <td>1</td>\n",
       "      <td>...</td>\n",
       "      <td>0</td>\n",
       "      <td>0</td>\n",
       "      <td>0</td>\n",
       "      <td>0</td>\n",
       "      <td>0</td>\n",
       "      <td>0</td>\n",
       "      <td>0</td>\n",
       "      <td>0</td>\n",
       "      <td>0</td>\n",
       "      <td>0</td>\n",
       "    </tr>\n",
       "  </tbody>\n",
       "</table>\n",
       "<p>33095 rows × 703 columns</p>\n",
       "</div>"
      ],
      "text/plain": [
       "        0  1  2   3   4  5   6   7   8  9  ...  693  694  695  696  697  698  \\\n",
       "0      20  5  7  19  33  2   7  14  27  0  ...    0    0    0    1    0    0   \n",
       "1      22  3  5   8  37  6   4  22  19  0  ...    0    0    0    0    0    0   \n",
       "2      29  9  7  12  31  9   9   9  12  0  ...    0    0    1    1    0    0   \n",
       "3      17  9  6  14  54  4   4  17  16  2  ...    0    0    3    0    0    0   \n",
       "4      14  7  8  16  39  2   8  11  23  0  ...    0    0    0    0    0    0   \n",
       "...    .. .. ..  ..  .. ..  ..  ..  .. ..  ...  ...  ...  ...  ...  ...  ...   \n",
       "33090  24  3  5  11  29  4   8  17  24  0  ...    0    0    0    0    0    0   \n",
       "33091  25  2  7  11  34  5   5  13  18  0  ...    0    0    0    0    0    0   \n",
       "33092  18  6  5  13  51  5  13  11  18  0  ...    0    0    1    1    0    1   \n",
       "33093  19  2  7  16  46  2   7   6  19  0  ...    0    0    1    1    1    1   \n",
       "33094  19  6  7  16  51  5   9   9  15  1  ...    0    0    0    0    0    0   \n",
       "\n",
       "       699  700  701  langue  \n",
       "0        0    0    0       0  \n",
       "1        0    0    0       1  \n",
       "2        0    0    0       0  \n",
       "3        0    0    0       0  \n",
       "4        0    0    0       0  \n",
       "...    ...  ...  ...     ...  \n",
       "33090    0    0    0       1  \n",
       "33091    0    0    0       1  \n",
       "33092    0    0    0       0  \n",
       "33093    0    0    0       0  \n",
       "33094    0    0    0       0  \n",
       "\n",
       "[33095 rows x 703 columns]"
      ]
     },
     "execution_count": 84,
     "metadata": {},
     "output_type": "execute_result"
    }
   ],
   "source": [
    "df_ENvsDE_prime=df_ENvsDE_prime.sample(frac=1).reset_index(drop=True)\n",
    "df_ENvsDE_prime"
   ]
  },
  {
   "cell_type": "code",
   "execution_count": 85,
   "metadata": {},
   "outputs": [],
   "source": [
    "X_prime=df_ENvsDE_prime.drop([\"langue\"],axis=1)\n",
    "y_prime=df_ENvsDE_prime[['langue']]"
   ]
  },
  {
   "cell_type": "code",
   "execution_count": 86,
   "metadata": {},
   "outputs": [],
   "source": [
    "X_train_prime, X_test_prime, y_train_prime, y_test_prime = train_test_split(X_prime, y_prime, test_size=0.7)"
   ]
  },
  {
   "cell_type": "code",
   "execution_count": 87,
   "metadata": {},
   "outputs": [
    {
     "name": "stdout",
     "output_type": "stream",
     "text": [
      "Fitting 5 folds for each of 5 candidates, totalling 25 fits\n",
      "[CV 1/5] END .....................................alpha=0.02; total time=   0.5s\n",
      "[CV 2/5] END .....................................alpha=0.02; total time=   0.5s\n",
      "[CV 3/5] END .....................................alpha=0.02; total time=   0.5s\n",
      "[CV 4/5] END .....................................alpha=0.02; total time=   0.6s\n",
      "[CV 5/5] END .....................................alpha=0.02; total time=   0.5s\n",
      "[CV 1/5] END ....................................alpha=0.024; total time=   0.5s\n",
      "[CV 2/5] END ....................................alpha=0.024; total time=   0.4s\n",
      "[CV 3/5] END ....................................alpha=0.024; total time=   0.4s\n",
      "[CV 4/5] END ....................................alpha=0.024; total time=   0.5s\n",
      "[CV 5/5] END ....................................alpha=0.024; total time=   0.4s\n",
      "[CV 1/5] END ....................................alpha=0.025; total time=   0.5s\n",
      "[CV 2/5] END ....................................alpha=0.025; total time=   0.5s\n",
      "[CV 3/5] END ....................................alpha=0.025; total time=   0.5s\n",
      "[CV 4/5] END ....................................alpha=0.025; total time=   0.4s\n",
      "[CV 5/5] END ....................................alpha=0.025; total time=   0.5s\n",
      "[CV 1/5] END ....................................alpha=0.026; total time=   0.5s\n",
      "[CV 2/5] END ....................................alpha=0.026; total time=   0.4s\n",
      "[CV 3/5] END ....................................alpha=0.026; total time=   0.4s\n",
      "[CV 4/5] END ....................................alpha=0.026; total time=   0.5s\n",
      "[CV 5/5] END ....................................alpha=0.026; total time=   0.5s\n",
      "[CV 1/5] END .....................................alpha=0.03; total time=   0.4s\n",
      "[CV 2/5] END .....................................alpha=0.03; total time=   0.4s\n",
      "[CV 3/5] END .....................................alpha=0.03; total time=   0.4s\n",
      "[CV 4/5] END .....................................alpha=0.03; total time=   0.4s\n",
      "[CV 5/5] END .....................................alpha=0.03; total time=   0.4s\n"
     ]
    },
    {
     "data": {
      "text/plain": [
       "GridSearchCV(estimator=Lasso(),\n",
       "             param_grid={'alpha': [0.02, 0.024, 0.025, 0.026, 0.03]},\n",
       "             verbose=3)"
      ]
     },
     "execution_count": 87,
     "metadata": {},
     "output_type": "execute_result"
    }
   ],
   "source": [
    "grid_lasso.fit(X_train_prime, y_train_prime.values.ravel()) "
   ]
  },
  {
   "cell_type": "code",
   "execution_count": 88,
   "metadata": {},
   "outputs": [],
   "source": [
    "y_pred_grid_lasso_prime= grid_lasso.predict(X_test_prime) "
   ]
  },
  {
   "cell_type": "code",
   "execution_count": 89,
   "metadata": {},
   "outputs": [
    {
     "data": {
      "text/plain": [
       "0.9582688650021725"
      ]
     },
     "execution_count": 89,
     "metadata": {},
     "output_type": "execute_result"
    }
   ],
   "source": [
    "grid_lasso.score(X_test_prime,y_test_prime)"
   ]
  },
  {
   "cell_type": "code",
   "execution_count": 90,
   "metadata": {},
   "outputs": [],
   "source": [
    "for i in range(len(y_pred_grid_lasso_prime)):\n",
    "    if(y_pred_grid_lasso_prime[i]<0.5):\n",
    "        y_pred_grid_lasso_prime[i]=0\n",
    "    else:\n",
    "        y_pred_grid_lasso_prime[i]=1    "
   ]
  },
  {
   "cell_type": "code",
   "execution_count": 91,
   "metadata": {},
   "outputs": [
    {
     "data": {
      "text/plain": [
       "array([[11757,    46],\n",
       "       [    0, 11364]], dtype=int64)"
      ]
     },
     "execution_count": 91,
     "metadata": {},
     "output_type": "execute_result"
    }
   ],
   "source": [
    "confusion_matrix(y_test_prime,y_pred_grid_lasso_prime)"
   ]
  },
  {
   "cell_type": "markdown",
   "metadata": {},
   "source": [
    "## Questions:\n",
    "* 4. Réaliser une classification binaire en utilisant les SVM à noyau (comparer les performances obtenus avec un noyau Gaussien (rbf) et un noyau polynomial"
   ]
  },
  {
   "cell_type": "markdown",
   "metadata": {},
   "source": [
    "## Kernel SVM"
   ]
  },
  {
   "cell_type": "markdown",
   "metadata": {},
   "source": [
    "#### noyau polynomial:"
   ]
  },
  {
   "cell_type": "code",
   "execution_count": 92,
   "metadata": {},
   "outputs": [
    {
     "data": {
      "text/plain": [
       "SVC(degree=8, kernel='poly')"
      ]
     },
     "execution_count": 92,
     "metadata": {},
     "output_type": "execute_result"
    }
   ],
   "source": [
    "svclassifierpoly = SVC(kernel='poly', degree=8)\n",
    "svclassifierpoly.fit(X_train, y_train.values.ravel())"
   ]
  },
  {
   "cell_type": "code",
   "execution_count": 93,
   "metadata": {},
   "outputs": [],
   "source": [
    "y_pred5 = svclassifierpoly.predict(X_test)"
   ]
  },
  {
   "cell_type": "code",
   "execution_count": 94,
   "metadata": {},
   "outputs": [
    {
     "data": {
      "text/plain": [
       "array([[30274,    24],\n",
       "       [    5, 29468]], dtype=int64)"
      ]
     },
     "execution_count": 94,
     "metadata": {},
     "output_type": "execute_result"
    }
   ],
   "source": [
    "confusion_matrix(y_test,y_pred5)"
   ]
  },
  {
   "cell_type": "code",
   "execution_count": 95,
   "metadata": {},
   "outputs": [
    {
     "data": {
      "image/png": "[encoded data removed]",
      "text/plain": [
       "<Figure size 432x288 with 2 Axes>"
      ]
     },
     "metadata": {
      "needs_background": "light"
     },
     "output_type": "display_data"
    }
   ],
   "source": [
    "plot_confusion_matrix(svclassifierpoly, X_test, y_test)  \n",
    "plt.show() "
   ]
  },
  {
   "cell_type": "code",
   "execution_count": 96,
   "metadata": {},
   "outputs": [
    {
     "name": "stdout",
     "output_type": "stream",
     "text": [
      "   accuracy_score  f1_score  precision_score  recall_score\n",
      "0        0.999515  0.999508         0.999186       0.99983\n"
     ]
    }
   ],
   "source": [
    "print(classification_metrics(y_test, y_pred5))"
   ]
  },
  {
   "cell_type": "markdown",
   "metadata": {},
   "source": [
    "#### noyau gaussien:"
   ]
  },
  {
   "cell_type": "code",
   "execution_count": 97,
   "metadata": {},
   "outputs": [
    {
     "data": {
      "text/plain": [
       "SVC()"
      ]
     },
     "execution_count": 97,
     "metadata": {},
     "output_type": "execute_result"
    }
   ],
   "source": [
    "svclassifierrbf = SVC(kernel='rbf')\n",
    "svclassifierrbf.fit(X_train, y_train.values.ravel())"
   ]
  },
  {
   "cell_type": "code",
   "execution_count": 98,
   "metadata": {},
   "outputs": [],
   "source": [
    "y_pred6= svclassifierrbf.predict(X_test)"
   ]
  },
  {
   "cell_type": "code",
   "execution_count": 99,
   "metadata": {},
   "outputs": [
    {
     "data": {
      "image/png": "[encoded data removed]",
      "text/plain": [
       "<Figure size 432x288 with 2 Axes>"
      ]
     },
     "metadata": {
      "needs_background": "light"
     },
     "output_type": "display_data"
    }
   ],
   "source": [
    "plot_confusion_matrix(svclassifierrbf, X_test, y_test)  \n",
    "plt.show() "
   ]
  },
  {
   "cell_type": "code",
   "execution_count": 100,
   "metadata": {},
   "outputs": [
    {
     "name": "stdout",
     "output_type": "stream",
     "text": [
      "   accuracy_score  f1_score  precision_score  recall_score\n",
      "0        0.999532  0.999525         0.999423      0.999627\n"
     ]
    }
   ],
   "source": [
    "print(classification_metrics(y_test, y_pred6))"
   ]
  },
  {
   "cell_type": "markdown",
   "metadata": {},
   "source": [
    "#### noyau Sigmoid :"
   ]
  },
  {
   "cell_type": "code",
   "execution_count": 101,
   "metadata": {},
   "outputs": [
    {
     "data": {
      "text/plain": [
       "SVC(kernel='sigmoid')"
      ]
     },
     "execution_count": 101,
     "metadata": {},
     "output_type": "execute_result"
    }
   ],
   "source": [
    "svclassifiersig = SVC(kernel='sigmoid')\n",
    "svclassifiersig.fit(X_train, y_train.values.ravel())"
   ]
  },
  {
   "cell_type": "code",
   "execution_count": 102,
   "metadata": {},
   "outputs": [],
   "source": [
    "y_pred7= svclassifiersig.predict(X_test)"
   ]
  },
  {
   "cell_type": "code",
   "execution_count": 103,
   "metadata": {},
   "outputs": [
    {
     "data": {
      "image/png": "[encoded data removed]",
      "text/plain": [
       "<Figure size 432x288 with 2 Axes>"
      ]
     },
     "metadata": {
      "needs_background": "light"
     },
     "output_type": "display_data"
    }
   ],
   "source": [
    "plot_confusion_matrix(svclassifiersig, X_test, y_test)  \n",
    "plt.show() "
   ]
  },
  {
   "cell_type": "code",
   "execution_count": 104,
   "metadata": {},
   "outputs": [
    {
     "name": "stdout",
     "output_type": "stream",
     "text": [
      "   accuracy_score  f1_score  precision_score  recall_score\n",
      "0        0.998879  0.998864         0.998272      0.999457\n"
     ]
    }
   ],
   "source": [
    "print(classification_metrics(y_test, y_pred7))"
   ]
  },
  {
   "cell_type": "markdown",
   "metadata": {},
   "source": [
    "## Questions:\n",
    "* 5. Sur la base des résultats précédents, quelle est la méthode linéaire la plus adaptée à ce problème de classification\n"
   ]
  },
  {
   "cell_type": "markdown",
   "metadata": {},
   "source": [
    "Pour les modèles linéaires, il est clair que le modèle svm lineaire après gridsearch( c= 0.1, gamma=1)"
   ]
  },
  {
   "cell_type": "markdown",
   "metadata": {},
   "source": [
    "## Questions:\n",
    "* 6. Enfin, mettre en place une méthode (de votre choix) de classification multi-classe;\n",
    " * Donner la matrice de confusion et indiquer les languages les plus difficile à distinguer."
   ]
  },
  {
   "cell_type": "markdown",
   "metadata": {},
   "source": [
    "#### j'ai choisit le modèle svm linéaire tout en utilisant un grid search pour trouver les meilleurs hyperparamètres du dataframe contenant toute les langues"
   ]
  },
  {
   "cell_type": "code",
   "execution_count": 105,
   "metadata": {},
   "outputs": [
    {
     "data": {
      "text/html": [
       "<div>\n",
       "<style scoped>\n",
       "    .dataframe tbody tr th:only-of-type {\n",
       "        vertical-align: middle;\n",
       "    }\n",
       "\n",
       "    .dataframe tbody tr th {\n",
       "        vertical-align: top;\n",
       "    }\n",
       "\n",
       "    .dataframe thead th {\n",
       "        text-align: right;\n",
       "    }\n",
       "</style>\n",
       "<table border=\"1\" class=\"dataframe\">\n",
       "  <thead>\n",
       "    <tr style=\"text-align: right;\">\n",
       "      <th></th>\n",
       "      <th>0</th>\n",
       "      <th>1</th>\n",
       "      <th>2</th>\n",
       "      <th>3</th>\n",
       "      <th>4</th>\n",
       "      <th>5</th>\n",
       "      <th>6</th>\n",
       "      <th>7</th>\n",
       "      <th>8</th>\n",
       "      <th>9</th>\n",
       "      <th>...</th>\n",
       "      <th>693</th>\n",
       "      <th>694</th>\n",
       "      <th>695</th>\n",
       "      <th>696</th>\n",
       "      <th>697</th>\n",
       "      <th>698</th>\n",
       "      <th>699</th>\n",
       "      <th>700</th>\n",
       "      <th>701</th>\n",
       "      <th>langue</th>\n",
       "    </tr>\n",
       "  </thead>\n",
       "  <tbody>\n",
       "    <tr>\n",
       "      <th>0</th>\n",
       "      <td>10</td>\n",
       "      <td>0</td>\n",
       "      <td>6</td>\n",
       "      <td>4</td>\n",
       "      <td>14</td>\n",
       "      <td>1</td>\n",
       "      <td>0</td>\n",
       "      <td>7</td>\n",
       "      <td>6</td>\n",
       "      <td>0</td>\n",
       "      <td>...</td>\n",
       "      <td>0</td>\n",
       "      <td>0</td>\n",
       "      <td>0</td>\n",
       "      <td>0</td>\n",
       "      <td>0</td>\n",
       "      <td>0</td>\n",
       "      <td>0</td>\n",
       "      <td>0</td>\n",
       "      <td>0</td>\n",
       "      <td>2</td>\n",
       "    </tr>\n",
       "    <tr>\n",
       "      <th>1</th>\n",
       "      <td>14</td>\n",
       "      <td>0</td>\n",
       "      <td>1</td>\n",
       "      <td>11</td>\n",
       "      <td>14</td>\n",
       "      <td>1</td>\n",
       "      <td>1</td>\n",
       "      <td>2</td>\n",
       "      <td>4</td>\n",
       "      <td>1</td>\n",
       "      <td>...</td>\n",
       "      <td>0</td>\n",
       "      <td>0</td>\n",
       "      <td>0</td>\n",
       "      <td>0</td>\n",
       "      <td>0</td>\n",
       "      <td>0</td>\n",
       "      <td>0</td>\n",
       "      <td>0</td>\n",
       "      <td>0</td>\n",
       "      <td>2</td>\n",
       "    </tr>\n",
       "    <tr>\n",
       "      <th>2</th>\n",
       "      <td>9</td>\n",
       "      <td>2</td>\n",
       "      <td>1</td>\n",
       "      <td>12</td>\n",
       "      <td>15</td>\n",
       "      <td>0</td>\n",
       "      <td>0</td>\n",
       "      <td>2</td>\n",
       "      <td>7</td>\n",
       "      <td>1</td>\n",
       "      <td>...</td>\n",
       "      <td>0</td>\n",
       "      <td>0</td>\n",
       "      <td>0</td>\n",
       "      <td>0</td>\n",
       "      <td>0</td>\n",
       "      <td>0</td>\n",
       "      <td>0</td>\n",
       "      <td>0</td>\n",
       "      <td>0</td>\n",
       "      <td>2</td>\n",
       "    </tr>\n",
       "    <tr>\n",
       "      <th>3</th>\n",
       "      <td>10</td>\n",
       "      <td>2</td>\n",
       "      <td>2</td>\n",
       "      <td>7</td>\n",
       "      <td>12</td>\n",
       "      <td>0</td>\n",
       "      <td>2</td>\n",
       "      <td>4</td>\n",
       "      <td>11</td>\n",
       "      <td>1</td>\n",
       "      <td>...</td>\n",
       "      <td>0</td>\n",
       "      <td>0</td>\n",
       "      <td>0</td>\n",
       "      <td>0</td>\n",
       "      <td>0</td>\n",
       "      <td>0</td>\n",
       "      <td>0</td>\n",
       "      <td>0</td>\n",
       "      <td>0</td>\n",
       "      <td>2</td>\n",
       "    </tr>\n",
       "    <tr>\n",
       "      <th>4</th>\n",
       "      <td>13</td>\n",
       "      <td>0</td>\n",
       "      <td>0</td>\n",
       "      <td>5</td>\n",
       "      <td>8</td>\n",
       "      <td>1</td>\n",
       "      <td>0</td>\n",
       "      <td>3</td>\n",
       "      <td>9</td>\n",
       "      <td>1</td>\n",
       "      <td>...</td>\n",
       "      <td>0</td>\n",
       "      <td>0</td>\n",
       "      <td>0</td>\n",
       "      <td>0</td>\n",
       "      <td>0</td>\n",
       "      <td>0</td>\n",
       "      <td>0</td>\n",
       "      <td>0</td>\n",
       "      <td>0</td>\n",
       "      <td>2</td>\n",
       "    </tr>\n",
       "  </tbody>\n",
       "</table>\n",
       "<p>5 rows × 703 columns</p>\n",
       "</div>"
      ],
      "text/plain": [
       "    0  1  2   3   4  5  6  7   8  9  ...  693  694  695  696  697  698  699  \\\n",
       "0  10  0  6   4  14  1  0  7   6  0  ...    0    0    0    0    0    0    0   \n",
       "1  14  0  1  11  14  1  1  2   4  1  ...    0    0    0    0    0    0    0   \n",
       "2   9  2  1  12  15  0  0  2   7  1  ...    0    0    0    0    0    0    0   \n",
       "3  10  2  2   7  12  0  2  4  11  1  ...    0    0    0    0    0    0    0   \n",
       "4  13  0  0   5   8  1  0  3   9  1  ...    0    0    0    0    0    0    0   \n",
       "\n",
       "   700  701  langue  \n",
       "0    0    0       2  \n",
       "1    0    0       2  \n",
       "2    0    0       2  \n",
       "3    0    0       2  \n",
       "4    0    0       2  \n",
       "\n",
       "[5 rows x 703 columns]"
      ]
     },
     "execution_count": 105,
     "metadata": {},
     "output_type": "execute_result"
    }
   ],
   "source": [
    "df_ES = pd.DataFrame(data=FeaES)\n",
    "df_ES.head()\n",
    "df_ES[\"langue\"]=2\n",
    "df_ES.head()"
   ]
  },
  {
   "cell_type": "code",
   "execution_count": 106,
   "metadata": {},
   "outputs": [
    {
     "data": {
      "text/html": [
       "<div>\n",
       "<style scoped>\n",
       "    .dataframe tbody tr th:only-of-type {\n",
       "        vertical-align: middle;\n",
       "    }\n",
       "\n",
       "    .dataframe tbody tr th {\n",
       "        vertical-align: top;\n",
       "    }\n",
       "\n",
       "    .dataframe thead th {\n",
       "        text-align: right;\n",
       "    }\n",
       "</style>\n",
       "<table border=\"1\" class=\"dataframe\">\n",
       "  <thead>\n",
       "    <tr style=\"text-align: right;\">\n",
       "      <th></th>\n",
       "      <th>0</th>\n",
       "      <th>1</th>\n",
       "      <th>2</th>\n",
       "      <th>3</th>\n",
       "      <th>4</th>\n",
       "      <th>5</th>\n",
       "      <th>6</th>\n",
       "      <th>7</th>\n",
       "      <th>8</th>\n",
       "      <th>9</th>\n",
       "      <th>...</th>\n",
       "      <th>693</th>\n",
       "      <th>694</th>\n",
       "      <th>695</th>\n",
       "      <th>696</th>\n",
       "      <th>697</th>\n",
       "      <th>698</th>\n",
       "      <th>699</th>\n",
       "      <th>700</th>\n",
       "      <th>701</th>\n",
       "      <th>langue</th>\n",
       "    </tr>\n",
       "  </thead>\n",
       "  <tbody>\n",
       "    <tr>\n",
       "      <th>0</th>\n",
       "      <td>8</td>\n",
       "      <td>0</td>\n",
       "      <td>2</td>\n",
       "      <td>7</td>\n",
       "      <td>16</td>\n",
       "      <td>0</td>\n",
       "      <td>2</td>\n",
       "      <td>0</td>\n",
       "      <td>10</td>\n",
       "      <td>0</td>\n",
       "      <td>...</td>\n",
       "      <td>0</td>\n",
       "      <td>0</td>\n",
       "      <td>0</td>\n",
       "      <td>0</td>\n",
       "      <td>0</td>\n",
       "      <td>0</td>\n",
       "      <td>0</td>\n",
       "      <td>0</td>\n",
       "      <td>0</td>\n",
       "      <td>3</td>\n",
       "    </tr>\n",
       "    <tr>\n",
       "      <th>1</th>\n",
       "      <td>7</td>\n",
       "      <td>1</td>\n",
       "      <td>7</td>\n",
       "      <td>5</td>\n",
       "      <td>18</td>\n",
       "      <td>2</td>\n",
       "      <td>1</td>\n",
       "      <td>1</td>\n",
       "      <td>4</td>\n",
       "      <td>0</td>\n",
       "      <td>...</td>\n",
       "      <td>0</td>\n",
       "      <td>0</td>\n",
       "      <td>0</td>\n",
       "      <td>0</td>\n",
       "      <td>0</td>\n",
       "      <td>0</td>\n",
       "      <td>0</td>\n",
       "      <td>0</td>\n",
       "      <td>0</td>\n",
       "      <td>3</td>\n",
       "    </tr>\n",
       "    <tr>\n",
       "      <th>2</th>\n",
       "      <td>5</td>\n",
       "      <td>2</td>\n",
       "      <td>1</td>\n",
       "      <td>3</td>\n",
       "      <td>20</td>\n",
       "      <td>0</td>\n",
       "      <td>1</td>\n",
       "      <td>0</td>\n",
       "      <td>6</td>\n",
       "      <td>0</td>\n",
       "      <td>...</td>\n",
       "      <td>0</td>\n",
       "      <td>0</td>\n",
       "      <td>0</td>\n",
       "      <td>0</td>\n",
       "      <td>0</td>\n",
       "      <td>0</td>\n",
       "      <td>0</td>\n",
       "      <td>0</td>\n",
       "      <td>0</td>\n",
       "      <td>3</td>\n",
       "    </tr>\n",
       "    <tr>\n",
       "      <th>3</th>\n",
       "      <td>7</td>\n",
       "      <td>0</td>\n",
       "      <td>7</td>\n",
       "      <td>2</td>\n",
       "      <td>18</td>\n",
       "      <td>1</td>\n",
       "      <td>0</td>\n",
       "      <td>0</td>\n",
       "      <td>8</td>\n",
       "      <td>1</td>\n",
       "      <td>...</td>\n",
       "      <td>0</td>\n",
       "      <td>0</td>\n",
       "      <td>0</td>\n",
       "      <td>0</td>\n",
       "      <td>0</td>\n",
       "      <td>0</td>\n",
       "      <td>0</td>\n",
       "      <td>0</td>\n",
       "      <td>0</td>\n",
       "      <td>3</td>\n",
       "    </tr>\n",
       "    <tr>\n",
       "      <th>4</th>\n",
       "      <td>7</td>\n",
       "      <td>1</td>\n",
       "      <td>6</td>\n",
       "      <td>6</td>\n",
       "      <td>20</td>\n",
       "      <td>0</td>\n",
       "      <td>0</td>\n",
       "      <td>0</td>\n",
       "      <td>4</td>\n",
       "      <td>0</td>\n",
       "      <td>...</td>\n",
       "      <td>0</td>\n",
       "      <td>0</td>\n",
       "      <td>0</td>\n",
       "      <td>0</td>\n",
       "      <td>0</td>\n",
       "      <td>0</td>\n",
       "      <td>0</td>\n",
       "      <td>0</td>\n",
       "      <td>0</td>\n",
       "      <td>3</td>\n",
       "    </tr>\n",
       "  </tbody>\n",
       "</table>\n",
       "<p>5 rows × 703 columns</p>\n",
       "</div>"
      ],
      "text/plain": [
       "   0  1  2  3   4  5  6  7   8  9  ...  693  694  695  696  697  698  699  \\\n",
       "0  8  0  2  7  16  0  2  0  10  0  ...    0    0    0    0    0    0    0   \n",
       "1  7  1  7  5  18  2  1  1   4  0  ...    0    0    0    0    0    0    0   \n",
       "2  5  2  1  3  20  0  1  0   6  0  ...    0    0    0    0    0    0    0   \n",
       "3  7  0  7  2  18  1  0  0   8  1  ...    0    0    0    0    0    0    0   \n",
       "4  7  1  6  6  20  0  0  0   4  0  ...    0    0    0    0    0    0    0   \n",
       "\n",
       "   700  701  langue  \n",
       "0    0    0       3  \n",
       "1    0    0       3  \n",
       "2    0    0       3  \n",
       "3    0    0       3  \n",
       "4    0    0       3  \n",
       "\n",
       "[5 rows x 703 columns]"
      ]
     },
     "execution_count": 106,
     "metadata": {},
     "output_type": "execute_result"
    }
   ],
   "source": [
    "df_FR = pd.DataFrame(data=FeaFR)\n",
    "df_FR.head()\n",
    "df_FR[\"langue\"]=3\n",
    "df_FR.head()"
   ]
  },
  {
   "cell_type": "markdown",
   "metadata": {},
   "source": [
    "### On va creer le nouveau dataframe ou il y a toute les langues"
   ]
  },
  {
   "cell_type": "code",
   "execution_count": 107,
   "metadata": {},
   "outputs": [
    {
     "data": {
      "text/html": [
       "<div>\n",
       "<style scoped>\n",
       "    .dataframe tbody tr th:only-of-type {\n",
       "        vertical-align: middle;\n",
       "    }\n",
       "\n",
       "    .dataframe tbody tr th {\n",
       "        vertical-align: top;\n",
       "    }\n",
       "\n",
       "    .dataframe thead th {\n",
       "        text-align: right;\n",
       "    }\n",
       "</style>\n",
       "<table border=\"1\" class=\"dataframe\">\n",
       "  <thead>\n",
       "    <tr style=\"text-align: right;\">\n",
       "      <th></th>\n",
       "      <th>0</th>\n",
       "      <th>1</th>\n",
       "      <th>2</th>\n",
       "      <th>3</th>\n",
       "      <th>4</th>\n",
       "      <th>5</th>\n",
       "      <th>6</th>\n",
       "      <th>7</th>\n",
       "      <th>8</th>\n",
       "      <th>9</th>\n",
       "      <th>...</th>\n",
       "      <th>693</th>\n",
       "      <th>694</th>\n",
       "      <th>695</th>\n",
       "      <th>696</th>\n",
       "      <th>697</th>\n",
       "      <th>698</th>\n",
       "      <th>699</th>\n",
       "      <th>700</th>\n",
       "      <th>701</th>\n",
       "      <th>langue</th>\n",
       "    </tr>\n",
       "  </thead>\n",
       "  <tbody>\n",
       "    <tr>\n",
       "      <th>0</th>\n",
       "      <td>1</td>\n",
       "      <td>3</td>\n",
       "      <td>0</td>\n",
       "      <td>7</td>\n",
       "      <td>18</td>\n",
       "      <td>1</td>\n",
       "      <td>5</td>\n",
       "      <td>5</td>\n",
       "      <td>8</td>\n",
       "      <td>1</td>\n",
       "      <td>...</td>\n",
       "      <td>0</td>\n",
       "      <td>0</td>\n",
       "      <td>1</td>\n",
       "      <td>2</td>\n",
       "      <td>0</td>\n",
       "      <td>0</td>\n",
       "      <td>0</td>\n",
       "      <td>0</td>\n",
       "      <td>0</td>\n",
       "      <td>0</td>\n",
       "    </tr>\n",
       "    <tr>\n",
       "      <th>1</th>\n",
       "      <td>6</td>\n",
       "      <td>2</td>\n",
       "      <td>5</td>\n",
       "      <td>6</td>\n",
       "      <td>12</td>\n",
       "      <td>9</td>\n",
       "      <td>4</td>\n",
       "      <td>6</td>\n",
       "      <td>7</td>\n",
       "      <td>0</td>\n",
       "      <td>...</td>\n",
       "      <td>0</td>\n",
       "      <td>0</td>\n",
       "      <td>0</td>\n",
       "      <td>0</td>\n",
       "      <td>0</td>\n",
       "      <td>0</td>\n",
       "      <td>0</td>\n",
       "      <td>0</td>\n",
       "      <td>0</td>\n",
       "      <td>0</td>\n",
       "    </tr>\n",
       "    <tr>\n",
       "      <th>2</th>\n",
       "      <td>4</td>\n",
       "      <td>4</td>\n",
       "      <td>2</td>\n",
       "      <td>5</td>\n",
       "      <td>18</td>\n",
       "      <td>2</td>\n",
       "      <td>1</td>\n",
       "      <td>2</td>\n",
       "      <td>6</td>\n",
       "      <td>1</td>\n",
       "      <td>...</td>\n",
       "      <td>0</td>\n",
       "      <td>0</td>\n",
       "      <td>1</td>\n",
       "      <td>0</td>\n",
       "      <td>0</td>\n",
       "      <td>0</td>\n",
       "      <td>0</td>\n",
       "      <td>0</td>\n",
       "      <td>0</td>\n",
       "      <td>0</td>\n",
       "    </tr>\n",
       "    <tr>\n",
       "      <th>3</th>\n",
       "      <td>10</td>\n",
       "      <td>0</td>\n",
       "      <td>6</td>\n",
       "      <td>5</td>\n",
       "      <td>14</td>\n",
       "      <td>1</td>\n",
       "      <td>3</td>\n",
       "      <td>7</td>\n",
       "      <td>5</td>\n",
       "      <td>0</td>\n",
       "      <td>...</td>\n",
       "      <td>0</td>\n",
       "      <td>0</td>\n",
       "      <td>0</td>\n",
       "      <td>0</td>\n",
       "      <td>0</td>\n",
       "      <td>0</td>\n",
       "      <td>0</td>\n",
       "      <td>0</td>\n",
       "      <td>0</td>\n",
       "      <td>0</td>\n",
       "    </tr>\n",
       "    <tr>\n",
       "      <th>4</th>\n",
       "      <td>5</td>\n",
       "      <td>0</td>\n",
       "      <td>3</td>\n",
       "      <td>4</td>\n",
       "      <td>19</td>\n",
       "      <td>2</td>\n",
       "      <td>5</td>\n",
       "      <td>7</td>\n",
       "      <td>7</td>\n",
       "      <td>1</td>\n",
       "      <td>...</td>\n",
       "      <td>0</td>\n",
       "      <td>0</td>\n",
       "      <td>0</td>\n",
       "      <td>0</td>\n",
       "      <td>0</td>\n",
       "      <td>0</td>\n",
       "      <td>0</td>\n",
       "      <td>0</td>\n",
       "      <td>0</td>\n",
       "      <td>0</td>\n",
       "    </tr>\n",
       "    <tr>\n",
       "      <th>...</th>\n",
       "      <td>...</td>\n",
       "      <td>...</td>\n",
       "      <td>...</td>\n",
       "      <td>...</td>\n",
       "      <td>...</td>\n",
       "      <td>...</td>\n",
       "      <td>...</td>\n",
       "      <td>...</td>\n",
       "      <td>...</td>\n",
       "      <td>...</td>\n",
       "      <td>...</td>\n",
       "      <td>...</td>\n",
       "      <td>...</td>\n",
       "      <td>...</td>\n",
       "      <td>...</td>\n",
       "      <td>...</td>\n",
       "      <td>...</td>\n",
       "      <td>...</td>\n",
       "      <td>...</td>\n",
       "      <td>...</td>\n",
       "      <td>...</td>\n",
       "    </tr>\n",
       "    <tr>\n",
       "      <th>41155</th>\n",
       "      <td>11</td>\n",
       "      <td>1</td>\n",
       "      <td>1</td>\n",
       "      <td>3</td>\n",
       "      <td>12</td>\n",
       "      <td>0</td>\n",
       "      <td>3</td>\n",
       "      <td>1</td>\n",
       "      <td>9</td>\n",
       "      <td>0</td>\n",
       "      <td>...</td>\n",
       "      <td>0</td>\n",
       "      <td>0</td>\n",
       "      <td>0</td>\n",
       "      <td>0</td>\n",
       "      <td>0</td>\n",
       "      <td>0</td>\n",
       "      <td>0</td>\n",
       "      <td>0</td>\n",
       "      <td>0</td>\n",
       "      <td>3</td>\n",
       "    </tr>\n",
       "    <tr>\n",
       "      <th>41156</th>\n",
       "      <td>7</td>\n",
       "      <td>0</td>\n",
       "      <td>3</td>\n",
       "      <td>6</td>\n",
       "      <td>22</td>\n",
       "      <td>2</td>\n",
       "      <td>2</td>\n",
       "      <td>1</td>\n",
       "      <td>8</td>\n",
       "      <td>0</td>\n",
       "      <td>...</td>\n",
       "      <td>0</td>\n",
       "      <td>0</td>\n",
       "      <td>0</td>\n",
       "      <td>0</td>\n",
       "      <td>0</td>\n",
       "      <td>0</td>\n",
       "      <td>0</td>\n",
       "      <td>0</td>\n",
       "      <td>0</td>\n",
       "      <td>3</td>\n",
       "    </tr>\n",
       "    <tr>\n",
       "      <th>41157</th>\n",
       "      <td>3</td>\n",
       "      <td>0</td>\n",
       "      <td>4</td>\n",
       "      <td>3</td>\n",
       "      <td>23</td>\n",
       "      <td>2</td>\n",
       "      <td>0</td>\n",
       "      <td>0</td>\n",
       "      <td>8</td>\n",
       "      <td>1</td>\n",
       "      <td>...</td>\n",
       "      <td>0</td>\n",
       "      <td>0</td>\n",
       "      <td>0</td>\n",
       "      <td>0</td>\n",
       "      <td>0</td>\n",
       "      <td>0</td>\n",
       "      <td>0</td>\n",
       "      <td>0</td>\n",
       "      <td>0</td>\n",
       "      <td>3</td>\n",
       "    </tr>\n",
       "    <tr>\n",
       "      <th>41158</th>\n",
       "      <td>8</td>\n",
       "      <td>0</td>\n",
       "      <td>1</td>\n",
       "      <td>7</td>\n",
       "      <td>19</td>\n",
       "      <td>4</td>\n",
       "      <td>2</td>\n",
       "      <td>1</td>\n",
       "      <td>5</td>\n",
       "      <td>0</td>\n",
       "      <td>...</td>\n",
       "      <td>0</td>\n",
       "      <td>0</td>\n",
       "      <td>0</td>\n",
       "      <td>0</td>\n",
       "      <td>0</td>\n",
       "      <td>0</td>\n",
       "      <td>0</td>\n",
       "      <td>0</td>\n",
       "      <td>0</td>\n",
       "      <td>3</td>\n",
       "    </tr>\n",
       "    <tr>\n",
       "      <th>41159</th>\n",
       "      <td>13</td>\n",
       "      <td>1</td>\n",
       "      <td>4</td>\n",
       "      <td>3</td>\n",
       "      <td>20</td>\n",
       "      <td>3</td>\n",
       "      <td>1</td>\n",
       "      <td>2</td>\n",
       "      <td>5</td>\n",
       "      <td>0</td>\n",
       "      <td>...</td>\n",
       "      <td>0</td>\n",
       "      <td>0</td>\n",
       "      <td>0</td>\n",
       "      <td>0</td>\n",
       "      <td>0</td>\n",
       "      <td>0</td>\n",
       "      <td>0</td>\n",
       "      <td>0</td>\n",
       "      <td>0</td>\n",
       "      <td>3</td>\n",
       "    </tr>\n",
       "  </tbody>\n",
       "</table>\n",
       "<p>169765 rows × 703 columns</p>\n",
       "</div>"
      ],
      "text/plain": [
       "        0  1  2  3   4  5  6  7  8  9  ...  693  694  695  696  697  698  699  \\\n",
       "0       1  3  0  7  18  1  5  5  8  1  ...    0    0    1    2    0    0    0   \n",
       "1       6  2  5  6  12  9  4  6  7  0  ...    0    0    0    0    0    0    0   \n",
       "2       4  4  2  5  18  2  1  2  6  1  ...    0    0    1    0    0    0    0   \n",
       "3      10  0  6  5  14  1  3  7  5  0  ...    0    0    0    0    0    0    0   \n",
       "4       5  0  3  4  19  2  5  7  7  1  ...    0    0    0    0    0    0    0   \n",
       "...    .. .. .. ..  .. .. .. .. .. ..  ...  ...  ...  ...  ...  ...  ...  ...   \n",
       "41155  11  1  1  3  12  0  3  1  9  0  ...    0    0    0    0    0    0    0   \n",
       "41156   7  0  3  6  22  2  2  1  8  0  ...    0    0    0    0    0    0    0   \n",
       "41157   3  0  4  3  23  2  0  0  8  1  ...    0    0    0    0    0    0    0   \n",
       "41158   8  0  1  7  19  4  2  1  5  0  ...    0    0    0    0    0    0    0   \n",
       "41159  13  1  4  3  20  3  1  2  5  0  ...    0    0    0    0    0    0    0   \n",
       "\n",
       "       700  701  langue  \n",
       "0        0    0       0  \n",
       "1        0    0       0  \n",
       "2        0    0       0  \n",
       "3        0    0       0  \n",
       "4        0    0       0  \n",
       "...    ...  ...     ...  \n",
       "41155    0    0       3  \n",
       "41156    0    0       3  \n",
       "41157    0    0       3  \n",
       "41158    0    0       3  \n",
       "41159    0    0       3  \n",
       "\n",
       "[169765 rows x 703 columns]"
      ]
     },
     "execution_count": 107,
     "metadata": {},
     "output_type": "execute_result"
    }
   ],
   "source": [
    "df_totale=pd.concat([df_DE,df_EN,df_ES,df_FR])\n",
    "df_totale"
   ]
  },
  {
   "cell_type": "markdown",
   "metadata": {},
   "source": [
    "### On shuffle les lignes comme on a fait avant "
   ]
  },
  {
   "cell_type": "code",
   "execution_count": 108,
   "metadata": {},
   "outputs": [
    {
     "data": {
      "text/html": [
       "<div>\n",
       "<style scoped>\n",
       "    .dataframe tbody tr th:only-of-type {\n",
       "        vertical-align: middle;\n",
       "    }\n",
       "\n",
       "    .dataframe tbody tr th {\n",
       "        vertical-align: top;\n",
       "    }\n",
       "\n",
       "    .dataframe thead th {\n",
       "        text-align: right;\n",
       "    }\n",
       "</style>\n",
       "<table border=\"1\" class=\"dataframe\">\n",
       "  <thead>\n",
       "    <tr style=\"text-align: right;\">\n",
       "      <th></th>\n",
       "      <th>0</th>\n",
       "      <th>1</th>\n",
       "      <th>2</th>\n",
       "      <th>3</th>\n",
       "      <th>4</th>\n",
       "      <th>5</th>\n",
       "      <th>6</th>\n",
       "      <th>7</th>\n",
       "      <th>8</th>\n",
       "      <th>9</th>\n",
       "      <th>...</th>\n",
       "      <th>693</th>\n",
       "      <th>694</th>\n",
       "      <th>695</th>\n",
       "      <th>696</th>\n",
       "      <th>697</th>\n",
       "      <th>698</th>\n",
       "      <th>699</th>\n",
       "      <th>700</th>\n",
       "      <th>701</th>\n",
       "      <th>langue</th>\n",
       "    </tr>\n",
       "  </thead>\n",
       "  <tbody>\n",
       "    <tr>\n",
       "      <th>0</th>\n",
       "      <td>4</td>\n",
       "      <td>1</td>\n",
       "      <td>2</td>\n",
       "      <td>7</td>\n",
       "      <td>18</td>\n",
       "      <td>2</td>\n",
       "      <td>4</td>\n",
       "      <td>5</td>\n",
       "      <td>8</td>\n",
       "      <td>0</td>\n",
       "      <td>...</td>\n",
       "      <td>0</td>\n",
       "      <td>0</td>\n",
       "      <td>0</td>\n",
       "      <td>0</td>\n",
       "      <td>0</td>\n",
       "      <td>0</td>\n",
       "      <td>0</td>\n",
       "      <td>0</td>\n",
       "      <td>0</td>\n",
       "      <td>0</td>\n",
       "    </tr>\n",
       "    <tr>\n",
       "      <th>1</th>\n",
       "      <td>7</td>\n",
       "      <td>0</td>\n",
       "      <td>3</td>\n",
       "      <td>4</td>\n",
       "      <td>15</td>\n",
       "      <td>1</td>\n",
       "      <td>2</td>\n",
       "      <td>7</td>\n",
       "      <td>10</td>\n",
       "      <td>0</td>\n",
       "      <td>...</td>\n",
       "      <td>0</td>\n",
       "      <td>0</td>\n",
       "      <td>0</td>\n",
       "      <td>0</td>\n",
       "      <td>0</td>\n",
       "      <td>0</td>\n",
       "      <td>0</td>\n",
       "      <td>0</td>\n",
       "      <td>0</td>\n",
       "      <td>1</td>\n",
       "    </tr>\n",
       "    <tr>\n",
       "      <th>2</th>\n",
       "      <td>8</td>\n",
       "      <td>3</td>\n",
       "      <td>5</td>\n",
       "      <td>6</td>\n",
       "      <td>14</td>\n",
       "      <td>2</td>\n",
       "      <td>2</td>\n",
       "      <td>5</td>\n",
       "      <td>8</td>\n",
       "      <td>0</td>\n",
       "      <td>...</td>\n",
       "      <td>0</td>\n",
       "      <td>1</td>\n",
       "      <td>0</td>\n",
       "      <td>0</td>\n",
       "      <td>0</td>\n",
       "      <td>0</td>\n",
       "      <td>0</td>\n",
       "      <td>0</td>\n",
       "      <td>0</td>\n",
       "      <td>0</td>\n",
       "    </tr>\n",
       "    <tr>\n",
       "      <th>3</th>\n",
       "      <td>9</td>\n",
       "      <td>1</td>\n",
       "      <td>2</td>\n",
       "      <td>4</td>\n",
       "      <td>20</td>\n",
       "      <td>3</td>\n",
       "      <td>1</td>\n",
       "      <td>1</td>\n",
       "      <td>8</td>\n",
       "      <td>0</td>\n",
       "      <td>...</td>\n",
       "      <td>0</td>\n",
       "      <td>0</td>\n",
       "      <td>0</td>\n",
       "      <td>0</td>\n",
       "      <td>0</td>\n",
       "      <td>0</td>\n",
       "      <td>0</td>\n",
       "      <td>0</td>\n",
       "      <td>0</td>\n",
       "      <td>3</td>\n",
       "    </tr>\n",
       "    <tr>\n",
       "      <th>4</th>\n",
       "      <td>7</td>\n",
       "      <td>3</td>\n",
       "      <td>6</td>\n",
       "      <td>3</td>\n",
       "      <td>14</td>\n",
       "      <td>2</td>\n",
       "      <td>1</td>\n",
       "      <td>12</td>\n",
       "      <td>8</td>\n",
       "      <td>0</td>\n",
       "      <td>...</td>\n",
       "      <td>0</td>\n",
       "      <td>0</td>\n",
       "      <td>0</td>\n",
       "      <td>0</td>\n",
       "      <td>0</td>\n",
       "      <td>0</td>\n",
       "      <td>0</td>\n",
       "      <td>0</td>\n",
       "      <td>0</td>\n",
       "      <td>0</td>\n",
       "    </tr>\n",
       "    <tr>\n",
       "      <th>...</th>\n",
       "      <td>...</td>\n",
       "      <td>...</td>\n",
       "      <td>...</td>\n",
       "      <td>...</td>\n",
       "      <td>...</td>\n",
       "      <td>...</td>\n",
       "      <td>...</td>\n",
       "      <td>...</td>\n",
       "      <td>...</td>\n",
       "      <td>...</td>\n",
       "      <td>...</td>\n",
       "      <td>...</td>\n",
       "      <td>...</td>\n",
       "      <td>...</td>\n",
       "      <td>...</td>\n",
       "      <td>...</td>\n",
       "      <td>...</td>\n",
       "      <td>...</td>\n",
       "      <td>...</td>\n",
       "      <td>...</td>\n",
       "      <td>...</td>\n",
       "    </tr>\n",
       "    <tr>\n",
       "      <th>169760</th>\n",
       "      <td>8</td>\n",
       "      <td>2</td>\n",
       "      <td>2</td>\n",
       "      <td>6</td>\n",
       "      <td>14</td>\n",
       "      <td>0</td>\n",
       "      <td>3</td>\n",
       "      <td>7</td>\n",
       "      <td>4</td>\n",
       "      <td>0</td>\n",
       "      <td>...</td>\n",
       "      <td>0</td>\n",
       "      <td>0</td>\n",
       "      <td>0</td>\n",
       "      <td>0</td>\n",
       "      <td>0</td>\n",
       "      <td>0</td>\n",
       "      <td>0</td>\n",
       "      <td>0</td>\n",
       "      <td>0</td>\n",
       "      <td>1</td>\n",
       "    </tr>\n",
       "    <tr>\n",
       "      <th>169761</th>\n",
       "      <td>16</td>\n",
       "      <td>3</td>\n",
       "      <td>5</td>\n",
       "      <td>5</td>\n",
       "      <td>14</td>\n",
       "      <td>2</td>\n",
       "      <td>2</td>\n",
       "      <td>4</td>\n",
       "      <td>6</td>\n",
       "      <td>0</td>\n",
       "      <td>...</td>\n",
       "      <td>0</td>\n",
       "      <td>0</td>\n",
       "      <td>0</td>\n",
       "      <td>0</td>\n",
       "      <td>0</td>\n",
       "      <td>0</td>\n",
       "      <td>0</td>\n",
       "      <td>0</td>\n",
       "      <td>0</td>\n",
       "      <td>2</td>\n",
       "    </tr>\n",
       "    <tr>\n",
       "      <th>169762</th>\n",
       "      <td>3</td>\n",
       "      <td>1</td>\n",
       "      <td>2</td>\n",
       "      <td>5</td>\n",
       "      <td>17</td>\n",
       "      <td>0</td>\n",
       "      <td>6</td>\n",
       "      <td>5</td>\n",
       "      <td>11</td>\n",
       "      <td>0</td>\n",
       "      <td>...</td>\n",
       "      <td>0</td>\n",
       "      <td>0</td>\n",
       "      <td>0</td>\n",
       "      <td>3</td>\n",
       "      <td>0</td>\n",
       "      <td>0</td>\n",
       "      <td>0</td>\n",
       "      <td>0</td>\n",
       "      <td>0</td>\n",
       "      <td>0</td>\n",
       "    </tr>\n",
       "    <tr>\n",
       "      <th>169763</th>\n",
       "      <td>7</td>\n",
       "      <td>1</td>\n",
       "      <td>2</td>\n",
       "      <td>1</td>\n",
       "      <td>20</td>\n",
       "      <td>3</td>\n",
       "      <td>2</td>\n",
       "      <td>1</td>\n",
       "      <td>6</td>\n",
       "      <td>2</td>\n",
       "      <td>...</td>\n",
       "      <td>0</td>\n",
       "      <td>0</td>\n",
       "      <td>0</td>\n",
       "      <td>0</td>\n",
       "      <td>0</td>\n",
       "      <td>0</td>\n",
       "      <td>0</td>\n",
       "      <td>0</td>\n",
       "      <td>0</td>\n",
       "      <td>3</td>\n",
       "    </tr>\n",
       "    <tr>\n",
       "      <th>169764</th>\n",
       "      <td>8</td>\n",
       "      <td>2</td>\n",
       "      <td>2</td>\n",
       "      <td>4</td>\n",
       "      <td>13</td>\n",
       "      <td>2</td>\n",
       "      <td>3</td>\n",
       "      <td>5</td>\n",
       "      <td>6</td>\n",
       "      <td>0</td>\n",
       "      <td>...</td>\n",
       "      <td>0</td>\n",
       "      <td>0</td>\n",
       "      <td>0</td>\n",
       "      <td>0</td>\n",
       "      <td>0</td>\n",
       "      <td>0</td>\n",
       "      <td>0</td>\n",
       "      <td>0</td>\n",
       "      <td>0</td>\n",
       "      <td>1</td>\n",
       "    </tr>\n",
       "  </tbody>\n",
       "</table>\n",
       "<p>169765 rows × 703 columns</p>\n",
       "</div>"
      ],
      "text/plain": [
       "         0  1  2  3   4  5  6   7   8  9  ...  693  694  695  696  697  698  \\\n",
       "0        4  1  2  7  18  2  4   5   8  0  ...    0    0    0    0    0    0   \n",
       "1        7  0  3  4  15  1  2   7  10  0  ...    0    0    0    0    0    0   \n",
       "2        8  3  5  6  14  2  2   5   8  0  ...    0    1    0    0    0    0   \n",
       "3        9  1  2  4  20  3  1   1   8  0  ...    0    0    0    0    0    0   \n",
       "4        7  3  6  3  14  2  1  12   8  0  ...    0    0    0    0    0    0   \n",
       "...     .. .. .. ..  .. .. ..  ..  .. ..  ...  ...  ...  ...  ...  ...  ...   \n",
       "169760   8  2  2  6  14  0  3   7   4  0  ...    0    0    0    0    0    0   \n",
       "169761  16  3  5  5  14  2  2   4   6  0  ...    0    0    0    0    0    0   \n",
       "169762   3  1  2  5  17  0  6   5  11  0  ...    0    0    0    3    0    0   \n",
       "169763   7  1  2  1  20  3  2   1   6  2  ...    0    0    0    0    0    0   \n",
       "169764   8  2  2  4  13  2  3   5   6  0  ...    0    0    0    0    0    0   \n",
       "\n",
       "        699  700  701  langue  \n",
       "0         0    0    0       0  \n",
       "1         0    0    0       1  \n",
       "2         0    0    0       0  \n",
       "3         0    0    0       3  \n",
       "4         0    0    0       0  \n",
       "...     ...  ...  ...     ...  \n",
       "169760    0    0    0       1  \n",
       "169761    0    0    0       2  \n",
       "169762    0    0    0       0  \n",
       "169763    0    0    0       3  \n",
       "169764    0    0    0       1  \n",
       "\n",
       "[169765 rows x 703 columns]"
      ]
     },
     "execution_count": 108,
     "metadata": {},
     "output_type": "execute_result"
    }
   ],
   "source": [
    "df_totale=df_totale.sample(frac=1).reset_index(drop=True)\n",
    "df_totale"
   ]
  },
  {
   "cell_type": "code",
   "execution_count": 109,
   "metadata": {},
   "outputs": [],
   "source": [
    "X_final=df_totale.drop([\"langue\"],axis=1)\n",
    "y_final=df_totale[['langue']]"
   ]
  },
  {
   "cell_type": "code",
   "execution_count": 110,
   "metadata": {},
   "outputs": [],
   "source": [
    "X_train_final, X_test_final, y_train_final, y_test_final = train_test_split(X_final, y_final, test_size=0.7)"
   ]
  },
  {
   "cell_type": "code",
   "execution_count": 111,
   "metadata": {},
   "outputs": [
    {
     "name": "stdout",
     "output_type": "stream",
     "text": [
      "Fitting 5 folds for each of 25 candidates, totalling 125 fits\n",
      "[CV 1/5] END ..................C=0.1, gamma=1, kernel=linear; total time=  21.4s\n",
      "[CV 2/5] END ..................C=0.1, gamma=1, kernel=linear; total time=  18.7s\n",
      "[CV 3/5] END ..................C=0.1, gamma=1, kernel=linear; total time=  18.7s\n",
      "[CV 4/5] END ..................C=0.1, gamma=1, kernel=linear; total time=  19.1s\n",
      "[CV 5/5] END ..................C=0.1, gamma=1, kernel=linear; total time=  19.6s\n",
      "[CV 1/5] END ................C=0.1, gamma=0.1, kernel=linear; total time=  18.9s\n",
      "[CV 2/5] END ................C=0.1, gamma=0.1, kernel=linear; total time=  19.2s\n",
      "[CV 3/5] END ................C=0.1, gamma=0.1, kernel=linear; total time=  19.0s\n",
      "[CV 4/5] END ................C=0.1, gamma=0.1, kernel=linear; total time=  19.1s\n",
      "[CV 5/5] END ................C=0.1, gamma=0.1, kernel=linear; total time=  19.7s\n",
      "[CV 1/5] END ...............C=0.1, gamma=0.01, kernel=linear; total time=  19.3s\n",
      "[CV 2/5] END ...............C=0.1, gamma=0.01, kernel=linear; total time=  18.9s\n",
      "[CV 3/5] END ...............C=0.1, gamma=0.01, kernel=linear; total time=  19.1s\n",
      "[CV 4/5] END ...............C=0.1, gamma=0.01, kernel=linear; total time=  18.9s\n",
      "[CV 5/5] END ...............C=0.1, gamma=0.01, kernel=linear; total time=  19.7s\n",
      "[CV 1/5] END ..............C=0.1, gamma=0.001, kernel=linear; total time=  19.2s\n",
      "[CV 2/5] END ..............C=0.1, gamma=0.001, kernel=linear; total time=  18.8s\n",
      "[CV 3/5] END ..............C=0.1, gamma=0.001, kernel=linear; total time=  18.9s\n",
      "[CV 4/5] END ..............C=0.1, gamma=0.001, kernel=linear; total time=  19.0s\n",
      "[CV 5/5] END ..............C=0.1, gamma=0.001, kernel=linear; total time=  20.7s\n",
      "[CV 1/5] END .............C=0.1, gamma=0.0001, kernel=linear; total time=  19.4s\n",
      "[CV 2/5] END .............C=0.1, gamma=0.0001, kernel=linear; total time=  18.9s\n",
      "[CV 3/5] END .............C=0.1, gamma=0.0001, kernel=linear; total time=  18.9s\n",
      "[CV 4/5] END .............C=0.1, gamma=0.0001, kernel=linear; total time=  18.8s\n",
      "[CV 5/5] END .............C=0.1, gamma=0.0001, kernel=linear; total time=  19.4s\n",
      "[CV 1/5] END ....................C=1, gamma=1, kernel=linear; total time=  21.8s\n",
      "[CV 2/5] END ....................C=1, gamma=1, kernel=linear; total time=  22.0s\n",
      "[CV 3/5] END ....................C=1, gamma=1, kernel=linear; total time=  21.2s\n",
      "[CV 4/5] END ....................C=1, gamma=1, kernel=linear; total time=  20.3s\n",
      "[CV 5/5] END ....................C=1, gamma=1, kernel=linear; total time=  21.9s\n",
      "[CV 1/5] END ..................C=1, gamma=0.1, kernel=linear; total time=  21.8s\n",
      "[CV 2/5] END ..................C=1, gamma=0.1, kernel=linear; total time=  21.7s\n",
      "[CV 3/5] END ..................C=1, gamma=0.1, kernel=linear; total time=  21.7s\n",
      "[CV 4/5] END ..................C=1, gamma=0.1, kernel=linear; total time=  20.3s\n",
      "[CV 5/5] END ..................C=1, gamma=0.1, kernel=linear; total time=  22.0s\n",
      "[CV 1/5] END .................C=1, gamma=0.01, kernel=linear; total time=  21.9s\n",
      "[CV 2/5] END .................C=1, gamma=0.01, kernel=linear; total time=  22.2s\n",
      "[CV 3/5] END .................C=1, gamma=0.01, kernel=linear; total time=  21.1s\n",
      "[CV 4/5] END .................C=1, gamma=0.01, kernel=linear; total time=  20.2s\n",
      "[CV 5/5] END .................C=1, gamma=0.01, kernel=linear; total time=  21.8s\n",
      "[CV 1/5] END ................C=1, gamma=0.001, kernel=linear; total time=  21.5s\n",
      "[CV 2/5] END ................C=1, gamma=0.001, kernel=linear; total time=  21.7s\n",
      "[CV 3/5] END ................C=1, gamma=0.001, kernel=linear; total time=  21.3s\n",
      "[CV 4/5] END ................C=1, gamma=0.001, kernel=linear; total time=  20.3s\n",
      "[CV 5/5] END ................C=1, gamma=0.001, kernel=linear; total time=  21.8s\n",
      "[CV 1/5] END ...............C=1, gamma=0.0001, kernel=linear; total time=  21.6s\n",
      "[CV 2/5] END ...............C=1, gamma=0.0001, kernel=linear; total time=  22.4s\n",
      "[CV 3/5] END ...............C=1, gamma=0.0001, kernel=linear; total time=  21.8s\n",
      "[CV 4/5] END ...............C=1, gamma=0.0001, kernel=linear; total time=  20.4s\n",
      "[CV 5/5] END ...............C=1, gamma=0.0001, kernel=linear; total time=  22.4s\n",
      "[CV 1/5] END ...................C=10, gamma=1, kernel=linear; total time=  22.7s\n",
      "[CV 2/5] END ...................C=10, gamma=1, kernel=linear; total time=  23.1s\n",
      "[CV 3/5] END ...................C=10, gamma=1, kernel=linear; total time=  23.3s\n",
      "[CV 4/5] END ...................C=10, gamma=1, kernel=linear; total time=  21.2s\n",
      "[CV 5/5] END ...................C=10, gamma=1, kernel=linear; total time=  22.3s\n",
      "[CV 1/5] END .................C=10, gamma=0.1, kernel=linear; total time=  22.1s\n",
      "[CV 2/5] END .................C=10, gamma=0.1, kernel=linear; total time=  22.9s\n",
      "[CV 3/5] END .................C=10, gamma=0.1, kernel=linear; total time=  22.2s\n",
      "[CV 4/5] END .................C=10, gamma=0.1, kernel=linear; total time=  21.8s\n",
      "[CV 5/5] END .................C=10, gamma=0.1, kernel=linear; total time=  22.8s\n",
      "[CV 1/5] END ................C=10, gamma=0.01, kernel=linear; total time=  22.4s\n",
      "[CV 2/5] END ................C=10, gamma=0.01, kernel=linear; total time=  23.1s\n",
      "[CV 3/5] END ................C=10, gamma=0.01, kernel=linear; total time=  22.5s\n",
      "[CV 4/5] END ................C=10, gamma=0.01, kernel=linear; total time=  21.1s\n",
      "[CV 5/5] END ................C=10, gamma=0.01, kernel=linear; total time=  22.0s\n",
      "[CV 1/5] END ...............C=10, gamma=0.001, kernel=linear; total time=  23.6s\n",
      "[CV 2/5] END ...............C=10, gamma=0.001, kernel=linear; total time=  23.5s\n",
      "[CV 3/5] END ...............C=10, gamma=0.001, kernel=linear; total time=  26.5s\n",
      "[CV 4/5] END ...............C=10, gamma=0.001, kernel=linear; total time=  23.1s\n",
      "[CV 5/5] END ...............C=10, gamma=0.001, kernel=linear; total time=  23.2s\n",
      "[CV 1/5] END ..............C=10, gamma=0.0001, kernel=linear; total time=  23.0s\n",
      "[CV 2/5] END ..............C=10, gamma=0.0001, kernel=linear; total time=  23.2s\n",
      "[CV 3/5] END ..............C=10, gamma=0.0001, kernel=linear; total time=  22.9s\n",
      "[CV 4/5] END ..............C=10, gamma=0.0001, kernel=linear; total time=  21.5s\n",
      "[CV 5/5] END ..............C=10, gamma=0.0001, kernel=linear; total time=  23.2s\n",
      "[CV 1/5] END ..................C=100, gamma=1, kernel=linear; total time=  24.4s\n",
      "[CV 2/5] END ..................C=100, gamma=1, kernel=linear; total time=  24.0s\n",
      "[CV 3/5] END ..................C=100, gamma=1, kernel=linear; total time=  22.4s\n",
      "[CV 4/5] END ..................C=100, gamma=1, kernel=linear; total time=  21.2s\n",
      "[CV 5/5] END ..................C=100, gamma=1, kernel=linear; total time=  23.2s\n",
      "[CV 1/5] END ................C=100, gamma=0.1, kernel=linear; total time=  24.7s\n",
      "[CV 2/5] END ................C=100, gamma=0.1, kernel=linear; total time=  23.4s\n",
      "[CV 3/5] END ................C=100, gamma=0.1, kernel=linear; total time=  21.4s\n",
      "[CV 4/5] END ................C=100, gamma=0.1, kernel=linear; total time=  20.7s\n",
      "[CV 5/5] END ................C=100, gamma=0.1, kernel=linear; total time=  22.1s\n",
      "[CV 1/5] END ...............C=100, gamma=0.01, kernel=linear; total time=  21.6s\n",
      "[CV 2/5] END ...............C=100, gamma=0.01, kernel=linear; total time=  21.9s\n",
      "[CV 3/5] END ...............C=100, gamma=0.01, kernel=linear; total time=  21.5s\n",
      "[CV 4/5] END ...............C=100, gamma=0.01, kernel=linear; total time=  20.3s\n",
      "[CV 5/5] END ...............C=100, gamma=0.01, kernel=linear; total time=  22.1s\n",
      "[CV 1/5] END ..............C=100, gamma=0.001, kernel=linear; total time=  21.7s\n",
      "[CV 2/5] END ..............C=100, gamma=0.001, kernel=linear; total time=  22.9s\n",
      "[CV 3/5] END ..............C=100, gamma=0.001, kernel=linear; total time=  23.7s\n",
      "[CV 4/5] END ..............C=100, gamma=0.001, kernel=linear; total time=  21.5s\n",
      "[CV 5/5] END ..............C=100, gamma=0.001, kernel=linear; total time=  23.2s\n",
      "[CV 1/5] END .............C=100, gamma=0.0001, kernel=linear; total time=  22.5s\n",
      "[CV 2/5] END .............C=100, gamma=0.0001, kernel=linear; total time=  21.9s\n",
      "[CV 3/5] END .............C=100, gamma=0.0001, kernel=linear; total time=  21.8s\n",
      "[CV 4/5] END .............C=100, gamma=0.0001, kernel=linear; total time=  21.9s\n",
      "[CV 5/5] END .............C=100, gamma=0.0001, kernel=linear; total time=  23.1s\n",
      "[CV 1/5] END .................C=1000, gamma=1, kernel=linear; total time=  22.1s\n"
     ]
    },
    {
     "name": "stdout",
     "output_type": "stream",
     "text": [
      "[CV 2/5] END .................C=1000, gamma=1, kernel=linear; total time=  21.9s\n",
      "[CV 3/5] END .................C=1000, gamma=1, kernel=linear; total time=  21.6s\n",
      "[CV 4/5] END .................C=1000, gamma=1, kernel=linear; total time=  20.8s\n",
      "[CV 5/5] END .................C=1000, gamma=1, kernel=linear; total time=  22.2s\n",
      "[CV 1/5] END ...............C=1000, gamma=0.1, kernel=linear; total time=  21.5s\n",
      "[CV 2/5] END ...............C=1000, gamma=0.1, kernel=linear; total time=  21.8s\n",
      "[CV 3/5] END ...............C=1000, gamma=0.1, kernel=linear; total time=  22.0s\n",
      "[CV 4/5] END ...............C=1000, gamma=0.1, kernel=linear; total time=  20.3s\n",
      "[CV 5/5] END ...............C=1000, gamma=0.1, kernel=linear; total time=  22.7s\n",
      "[CV 1/5] END ..............C=1000, gamma=0.01, kernel=linear; total time=  22.4s\n",
      "[CV 2/5] END ..............C=1000, gamma=0.01, kernel=linear; total time=  22.6s\n",
      "[CV 3/5] END ..............C=1000, gamma=0.01, kernel=linear; total time=  22.4s\n",
      "[CV 4/5] END ..............C=1000, gamma=0.01, kernel=linear; total time=  21.1s\n",
      "[CV 5/5] END ..............C=1000, gamma=0.01, kernel=linear; total time=  22.4s\n",
      "[CV 1/5] END .............C=1000, gamma=0.001, kernel=linear; total time=  21.8s\n",
      "[CV 2/5] END .............C=1000, gamma=0.001, kernel=linear; total time=  21.8s\n",
      "[CV 3/5] END .............C=1000, gamma=0.001, kernel=linear; total time=  21.4s\n",
      "[CV 4/5] END .............C=1000, gamma=0.001, kernel=linear; total time=  20.4s\n",
      "[CV 5/5] END .............C=1000, gamma=0.001, kernel=linear; total time=  21.9s\n",
      "[CV 1/5] END ............C=1000, gamma=0.0001, kernel=linear; total time=  21.5s\n",
      "[CV 2/5] END ............C=1000, gamma=0.0001, kernel=linear; total time=  21.6s\n",
      "[CV 3/5] END ............C=1000, gamma=0.0001, kernel=linear; total time=  21.5s\n",
      "[CV 4/5] END ............C=1000, gamma=0.0001, kernel=linear; total time=  20.4s\n",
      "[CV 5/5] END ............C=1000, gamma=0.0001, kernel=linear; total time=  22.0s\n"
     ]
    },
    {
     "data": {
      "text/plain": [
       "GridSearchCV(estimator=SVC(),\n",
       "             param_grid={'C': [0.1, 1, 10, 100, 1000],\n",
       "                         'gamma': [1, 0.1, 0.01, 0.001, 0.0001],\n",
       "                         'kernel': ['linear']},\n",
       "             verbose=3)"
      ]
     },
     "execution_count": 111,
     "metadata": {},
     "output_type": "execute_result"
    }
   ],
   "source": [
    "grid.fit(X_train_final,y_train_final.values.ravel())"
   ]
  },
  {
   "cell_type": "markdown",
   "metadata": {},
   "source": [
    "### l'entrainement a pris presque 50 minutes "
   ]
  },
  {
   "cell_type": "code",
   "execution_count": 112,
   "metadata": {},
   "outputs": [
    {
     "data": {
      "text/plain": [
       "0.9958430105355279"
      ]
     },
     "execution_count": 112,
     "metadata": {},
     "output_type": "execute_result"
    }
   ],
   "source": [
    "grid.score(X_test_final,y_test_final)"
   ]
  },
  {
   "cell_type": "code",
   "execution_count": 113,
   "metadata": {},
   "outputs": [],
   "source": [
    "y_grid_final_pred=grid.predict(X_test_final)"
   ]
  },
  {
   "cell_type": "code",
   "execution_count": 114,
   "metadata": {},
   "outputs": [
    {
     "data": {
      "image/png": "[encoded data removed]",
      "text/plain": [
       "<Figure size 432x288 with 2 Axes>"
      ]
     },
     "metadata": {
      "needs_background": "light"
     },
     "output_type": "display_data"
    }
   ],
   "source": [
    "plot_confusion_matrix(grid, X_test_final, y_test_final)  \n",
    "plt.show() "
   ]
  },
  {
   "cell_type": "markdown",
   "metadata": {},
   "source": [
    "à partir de la matrice de confusion on peut dire que le modèle se trompe plus à distinguer la langue française et la confend avec l'allemand , de même le modèle confuse l'anglais est le prend pour espagnol"
   ]
  }
 ],
 "metadata": {
  "kernelspec": {
   "display_name": "Python 3",
   "language": "python",
   "name": "python3"
  },
  "language_info": {
   "codemirror_mode": {
    "name": "ipython",
    "version": 3
   },
   "file_extension": ".py",
   "mimetype": "text/x-python",
   "name": "python",
   "nbconvert_exporter": "python",
   "pygments_lexer": "ipython3",
   "version": "3.8.3"
  }
 },
 "nbformat": 4,
 "nbformat_minor": 2
}
